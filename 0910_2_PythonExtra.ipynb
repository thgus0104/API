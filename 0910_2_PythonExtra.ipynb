{
  "nbformat": 4,
  "nbformat_minor": 0,
  "metadata": {
    "colab": {
      "name": "0910_2_PythonExtra.ipynb",
      "provenance": [],
      "collapsed_sections": [
        "8tG5I36kEtcS"
      ]
    },
    "kernelspec": {
      "name": "python3",
      "display_name": "Python 3"
    },
    "language_info": {
      "name": "python"
    }
  },
  "cells": [
    {
      "cell_type": "markdown",
      "metadata": {
        "id": "ecBzok35EOom"
      },
      "source": [
        "# Decorator"
      ]
    },
    {
      "cell_type": "code",
      "metadata": {
        "colab": {
          "base_uri": "https://localhost:8080/"
        },
        "id": "HmbNnuEa3Pk0",
        "outputId": "232a68dd-7e5b-4aa2-e1e4-ca3bd7241fe5"
      },
      "source": [
        "def para(func):\n",
        "  def wrapper():\n",
        "    return \"<p>\"+str(func())+\"</p>\"\n",
        "  return wrapper\n",
        "\n",
        "@para\n",
        "def cutname():\n",
        "  return \"James Bond\"\n",
        "\n",
        "@para\n",
        "def cutage():\n",
        "  return \"29\"\n",
        "\n",
        "print(cutname())\n",
        "print(cutage())"
      ],
      "execution_count": null,
      "outputs": [
        {
          "output_type": "stream",
          "name": "stdout",
          "text": [
            "<p>James Bond</p>\n",
            "<p>29</p>\n"
          ]
        }
      ]
    },
    {
      "cell_type": "code",
      "metadata": {
        "colab": {
          "base_uri": "https://localhost:8080/",
          "height": 250
        },
        "id": "yYs8LeFM3WKO",
        "outputId": "b8f16f86-a3c6-4616-d628-a0966d6deff3"
      },
      "source": [
        "#@은 반드시 함수형태여야한다.\n",
        "def para(func):\n",
        "  return \"<p>\"+str(func())+\"</p>\"\n",
        "\n",
        "@para\n",
        "def cutname():\n",
        "  return \"James Bond\"\n",
        "\n",
        "@para\n",
        "def cutage():\n",
        "  return \"29\"\n",
        "\n",
        "print(cutname())\n",
        "print(cutage())\n",
        "\n",
        "#para라는 Decorator를 함수로 만들어 함수가 출력되도록 해야한다.\n",
        "# @ 는 함수만 받기 때문에"
      ],
      "execution_count": null,
      "outputs": [
        {
          "output_type": "error",
          "ename": "TypeError",
          "evalue": "ignored",
          "traceback": [
            "\u001b[0;31m---------------------------------------------------------------------------\u001b[0m",
            "\u001b[0;31mTypeError\u001b[0m                                 Traceback (most recent call last)",
            "\u001b[0;32m<ipython-input-75-57932f31a759>\u001b[0m in \u001b[0;36m<module>\u001b[0;34m()\u001b[0m\n\u001b[1;32m     11\u001b[0m   \u001b[0;32mreturn\u001b[0m \u001b[0;34m\"29\"\u001b[0m\u001b[0;34m\u001b[0m\u001b[0;34m\u001b[0m\u001b[0m\n\u001b[1;32m     12\u001b[0m \u001b[0;34m\u001b[0m\u001b[0m\n\u001b[0;32m---> 13\u001b[0;31m \u001b[0mprint\u001b[0m\u001b[0;34m(\u001b[0m\u001b[0mcutname\u001b[0m\u001b[0;34m(\u001b[0m\u001b[0;34m)\u001b[0m\u001b[0;34m)\u001b[0m\u001b[0;34m\u001b[0m\u001b[0;34m\u001b[0m\u001b[0m\n\u001b[0m\u001b[1;32m     14\u001b[0m \u001b[0mprint\u001b[0m\u001b[0;34m(\u001b[0m\u001b[0mcutage\u001b[0m\u001b[0;34m(\u001b[0m\u001b[0;34m)\u001b[0m\u001b[0;34m)\u001b[0m\u001b[0;34m\u001b[0m\u001b[0;34m\u001b[0m\u001b[0m\n\u001b[1;32m     15\u001b[0m \u001b[0;34m\u001b[0m\u001b[0m\n",
            "\u001b[0;31mTypeError\u001b[0m: 'str' object is not callable"
          ]
        }
      ]
    },
    {
      "cell_type": "markdown",
      "metadata": {
        "id": "8tG5I36kEtcS"
      },
      "source": [
        "##인수 없는 wrapping 함수"
      ]
    },
    {
      "cell_type": "code",
      "metadata": {
        "colab": {
          "base_uri": "https://localhost:8080/",
          "height": 343
        },
        "id": "6oKLlaty4BNR",
        "outputId": "1149fe17-9d0d-4cba-ea84-22977a6358d1"
      },
      "source": [
        "#wrapping 함수는 ()>>인수를 받지 않도록 되어있는데 인수를 넣어서 출력시키면 오류가 난다.\n",
        "\n",
        "def para(func):\n",
        "  def wrapper():\n",
        "    return \"<p>\"+str(func())+\"</p>\"\n",
        "  return wrapper\n",
        "\n",
        "@para\n",
        "def cutname(name):\n",
        "  return \"name: \"+name\n",
        "\n",
        "print(cutname())\n"
      ],
      "execution_count": null,
      "outputs": [
        {
          "output_type": "error",
          "ename": "TypeError",
          "evalue": "ignored",
          "traceback": [
            "\u001b[0;31m---------------------------------------------------------------------------\u001b[0m",
            "\u001b[0;31mTypeError\u001b[0m                                 Traceback (most recent call last)",
            "\u001b[0;32m<ipython-input-76-5e892807f358>\u001b[0m in \u001b[0;36m<module>\u001b[0;34m()\u001b[0m\n\u001b[1;32m     10\u001b[0m   \u001b[0;32mreturn\u001b[0m \u001b[0;34m\"name: \"\u001b[0m\u001b[0;34m+\u001b[0m\u001b[0mname\u001b[0m\u001b[0;34m\u001b[0m\u001b[0;34m\u001b[0m\u001b[0m\n\u001b[1;32m     11\u001b[0m \u001b[0;34m\u001b[0m\u001b[0m\n\u001b[0;32m---> 12\u001b[0;31m \u001b[0mprint\u001b[0m\u001b[0;34m(\u001b[0m\u001b[0mcutname\u001b[0m\u001b[0;34m(\u001b[0m\u001b[0;34m)\u001b[0m\u001b[0;34m)\u001b[0m\u001b[0;34m\u001b[0m\u001b[0;34m\u001b[0m\u001b[0m\n\u001b[0m",
            "\u001b[0;32m<ipython-input-76-5e892807f358>\u001b[0m in \u001b[0;36mwrapper\u001b[0;34m()\u001b[0m\n\u001b[1;32m      3\u001b[0m \u001b[0;32mdef\u001b[0m \u001b[0mpara\u001b[0m\u001b[0;34m(\u001b[0m\u001b[0mfunc\u001b[0m\u001b[0;34m)\u001b[0m\u001b[0;34m:\u001b[0m\u001b[0;34m\u001b[0m\u001b[0;34m\u001b[0m\u001b[0m\n\u001b[1;32m      4\u001b[0m   \u001b[0;32mdef\u001b[0m \u001b[0mwrapper\u001b[0m\u001b[0;34m(\u001b[0m\u001b[0;34m)\u001b[0m\u001b[0;34m:\u001b[0m\u001b[0;34m\u001b[0m\u001b[0;34m\u001b[0m\u001b[0m\n\u001b[0;32m----> 5\u001b[0;31m     \u001b[0;32mreturn\u001b[0m \u001b[0;34m\"<p>\"\u001b[0m\u001b[0;34m+\u001b[0m\u001b[0mstr\u001b[0m\u001b[0;34m(\u001b[0m\u001b[0mfunc\u001b[0m\u001b[0;34m(\u001b[0m\u001b[0;34m)\u001b[0m\u001b[0;34m)\u001b[0m\u001b[0;34m+\u001b[0m\u001b[0;34m\"</p>\"\u001b[0m\u001b[0;34m\u001b[0m\u001b[0;34m\u001b[0m\u001b[0m\n\u001b[0m\u001b[1;32m      6\u001b[0m   \u001b[0;32mreturn\u001b[0m \u001b[0mwrapper\u001b[0m\u001b[0;34m\u001b[0m\u001b[0;34m\u001b[0m\u001b[0m\n\u001b[1;32m      7\u001b[0m \u001b[0;34m\u001b[0m\u001b[0m\n",
            "\u001b[0;31mTypeError\u001b[0m: cutname() missing 1 required positional argument: 'name'"
          ]
        }
      ]
    },
    {
      "cell_type": "markdown",
      "metadata": {
        "id": "c2QYc-rNEyxI"
      },
      "source": [
        "## 인수 적용 가능한 wrapping 함수"
      ]
    },
    {
      "cell_type": "code",
      "metadata": {
        "colab": {
          "base_uri": "https://localhost:8080/"
        },
        "id": "1PpjnnZC9KYK",
        "outputId": "df83bfac-d7b6-47bd-da6d-07745dd25f0f"
      },
      "source": [
        "#가변 함수를 받아들일 수 있는 Wrapping 함수\n",
        "def para(func):\n",
        "  def wrapper(*args, **kwargs): #a *>>단일 인수를 받아들임/ **>>키:값을 받아들임\n",
        "    return \"<p>\"+str(func(*args, **kwargs))+\"</p>\"\n",
        "  return wrapper\n",
        "\n",
        "@para\n",
        "def cutname(name):\n",
        "  return \"name: \"+name\n",
        "\n",
        "print(cutname(\"James Bond\"))"
      ],
      "execution_count": null,
      "outputs": [
        {
          "output_type": "stream",
          "name": "stdout",
          "text": [
            "<p>name: James Bond</p>\n"
          ]
        }
      ]
    },
    {
      "cell_type": "markdown",
      "metadata": {
        "id": "j-gdu9FWE5i6"
      },
      "source": [
        "## wrapping 적용된 함수들의 근본"
      ]
    },
    {
      "cell_type": "code",
      "metadata": {
        "colab": {
          "base_uri": "https://localhost:8080/"
        },
        "id": "MJmT5K4NC_Kn",
        "outputId": "6a5692a3-f8c2-4f7d-eea3-466b58f888e4"
      },
      "source": [
        "#wrapping함수가 적용된 함수들의 근본\n",
        "\n",
        "#일반 함수\n",
        "def normal():\n",
        "  return \"out\"\n",
        "\n",
        "print(normal())\n",
        "print(normal.__name__) \n",
        "\n",
        "#wrapping 함수\n",
        "print(cutname.__name__)\n",
        "\n",
        "print (\"일반 함수는 함수명이 그대로 출력되지만, wrapping함수는 wrapping 함수명인 wrap이 출력된다\")"
      ],
      "execution_count": null,
      "outputs": [
        {
          "output_type": "stream",
          "name": "stdout",
          "text": [
            "out\n",
            "normal\n",
            "wrapper\n",
            "일반 함수는 함수명이 그대로 출력되지만, wrapping함수는 wrapping 함수명인 wrap이 출력된다\n"
          ]
        }
      ]
    },
    {
      "cell_type": "markdown",
      "metadata": {
        "id": "mftaUzYkE_a1"
      },
      "source": [
        "##기타오류: 함수에서 str만 받아들일 때 int입력하면오류남"
      ]
    },
    {
      "cell_type": "code",
      "metadata": {
        "colab": {
          "base_uri": "https://localhost:8080/"
        },
        "id": "Qck5mDtMBbE2",
        "outputId": "8f098bed-64a4-4004-bd25-2598670dee3e"
      },
      "source": [
        "#함수에서 \"age: \"가 str이기 때문에 전체 str이여야함>>int는 오류남\n",
        "\n",
        "#방법1. 함수에서 입력값을 str으로 자동변환하도록 설정\n",
        "@para\n",
        "def cutage3(age):\n",
        "  return \"age: \" +str(age) #str + str\n",
        "\n",
        "print(cutage3(29))\n",
        "\n",
        "#방법2. 입력값을 str으로 하기(\"\"안에 숫자입력)\n",
        "@para\n",
        "def cutage4(age):\n",
        "  return \"age: \" +age\n",
        "\n",
        "print(cutage4(\"29\")) #입력값이 str"
      ],
      "execution_count": null,
      "outputs": [
        {
          "output_type": "stream",
          "name": "stdout",
          "text": [
            "<p>age: 29</p>\n",
            "<p>age: 29</p>\n"
          ]
        }
      ]
    },
    {
      "cell_type": "code",
      "metadata": {
        "colab": {
          "base_uri": "https://localhost:8080/",
          "height": 380
        },
        "id": "ZAVxC701B0Sq",
        "outputId": "269b9b8b-38d9-4869-c3a2-a7cde2cb35ae"
      },
      "source": [
        "def cutage5(age):\n",
        "  return \"age: \"+ age #str +int\n",
        "\n",
        "print(cutage5(29))\n",
        "\n",
        "#입력 값은 int인데 출력값이 str+int일수는 없음 >>함수 속에서든지/입력시에 str으로 변환해줘야 가능"
      ],
      "execution_count": null,
      "outputs": [
        {
          "output_type": "error",
          "ename": "TypeError",
          "evalue": "ignored",
          "traceback": [
            "\u001b[0;31m---------------------------------------------------------------------------\u001b[0m",
            "\u001b[0;31mTypeError\u001b[0m                                 Traceback (most recent call last)",
            "\u001b[0;32m<ipython-input-107-f8e9ef7a4e67>\u001b[0m in \u001b[0;36m<module>\u001b[0;34m()\u001b[0m\n\u001b[1;32m      2\u001b[0m   \u001b[0;32mreturn\u001b[0m \u001b[0;34m\"age: \"\u001b[0m\u001b[0;34m+\u001b[0m \u001b[0mage\u001b[0m \u001b[0;31m#str +int\u001b[0m\u001b[0;34m\u001b[0m\u001b[0;34m\u001b[0m\u001b[0m\n\u001b[1;32m      3\u001b[0m \u001b[0;34m\u001b[0m\u001b[0m\n\u001b[0;32m----> 4\u001b[0;31m \u001b[0mprint\u001b[0m\u001b[0;34m(\u001b[0m\u001b[0mcutage5\u001b[0m\u001b[0;34m(\u001b[0m\u001b[0;36m29\u001b[0m\u001b[0;34m)\u001b[0m\u001b[0;34m)\u001b[0m\u001b[0;34m\u001b[0m\u001b[0;34m\u001b[0m\u001b[0m\n\u001b[0m\u001b[1;32m      5\u001b[0m \u001b[0;34m\u001b[0m\u001b[0m\n\u001b[1;32m      6\u001b[0m \u001b[0;31m#입력 값은 int인데 출력값이 str+int일수는 없음 >>함수 속에서든지/입력시에 str으로 변환해줘야 가능\u001b[0m\u001b[0;34m\u001b[0m\u001b[0;34m\u001b[0m\u001b[0;34m\u001b[0m\u001b[0m\n",
            "\u001b[0;32m<ipython-input-107-f8e9ef7a4e67>\u001b[0m in \u001b[0;36mcutage5\u001b[0;34m(age)\u001b[0m\n\u001b[1;32m      1\u001b[0m \u001b[0;32mdef\u001b[0m \u001b[0mcutage5\u001b[0m\u001b[0;34m(\u001b[0m\u001b[0mage\u001b[0m\u001b[0;34m)\u001b[0m\u001b[0;34m:\u001b[0m\u001b[0;34m\u001b[0m\u001b[0;34m\u001b[0m\u001b[0m\n\u001b[0;32m----> 2\u001b[0;31m   \u001b[0;32mreturn\u001b[0m \u001b[0;34m\"age: \"\u001b[0m\u001b[0;34m+\u001b[0m \u001b[0mage\u001b[0m \u001b[0;31m#str +int\u001b[0m\u001b[0;34m\u001b[0m\u001b[0;34m\u001b[0m\u001b[0m\n\u001b[0m\u001b[1;32m      3\u001b[0m \u001b[0;34m\u001b[0m\u001b[0m\n\u001b[1;32m      4\u001b[0m \u001b[0mprint\u001b[0m\u001b[0;34m(\u001b[0m\u001b[0mcutage5\u001b[0m\u001b[0;34m(\u001b[0m\u001b[0;36m29\u001b[0m\u001b[0;34m)\u001b[0m\u001b[0;34m)\u001b[0m\u001b[0;34m\u001b[0m\u001b[0;34m\u001b[0m\u001b[0m\n\u001b[1;32m      5\u001b[0m \u001b[0;34m\u001b[0m\u001b[0m\n",
            "\u001b[0;31mTypeError\u001b[0m: can only concatenate str (not \"int\") to str"
          ]
        }
      ]
    },
    {
      "cell_type": "code",
      "metadata": {
        "colab": {
          "base_uri": "https://localhost:8080/"
        },
        "id": "9mpnnJcLFc2y",
        "outputId": "7f0c74c1-df5c-4a06-9a36-27efbac7bf89"
      },
      "source": [
        "def cutage5(age):\n",
        "  return age\n",
        "\n",
        "print(cutage5(29))\n",
        "\n",
        "#int값 단독 출력은 가능"
      ],
      "execution_count": null,
      "outputs": [
        {
          "output_type": "stream",
          "name": "stdout",
          "text": [
            "29\n"
          ]
        }
      ]
    },
    {
      "cell_type": "code",
      "metadata": {
        "id": "1kZe5J1dG1-C"
      },
      "source": [
        ""
      ],
      "execution_count": null,
      "outputs": []
    },
    {
      "cell_type": "markdown",
      "metadata": {
        "id": "Jsn1BR8pJH-j"
      },
      "source": [
        "#Switch/Case with dicts"
      ]
    },
    {
      "cell_type": "code",
      "metadata": {
        "id": "THAl7s2I0XI-"
      },
      "source": [
        "#if/elif/else 보다 직관적으로 조건문 만들기\n",
        "\n",
        "def plus(x,y):\n",
        "  return x+y\n",
        "def minus(x,y):\n",
        "  return x-y\n",
        "def multiply(x,y):\n",
        "  return x*y\n",
        "def divide(x,y):\n",
        "  return x/y\n",
        "#만약 출력값을 따로 설정하지 않을 \n",
        "def default_op(x,y):\n",
        "  return None"
      ],
      "execution_count": 12,
      "outputs": []
    },
    {
      "cell_type": "code",
      "metadata": {
        "id": "LvgoJaol1epb"
      },
      "source": [
        "\n",
        "func_dict = {\n",
        "    'add':plus,\n",
        "    'sub':minus,\n",
        "    'mul':multiply,\n",
        "    'div':divide,\n",
        "}\n",
        "def dispatch_dict(operator,x,y):\n",
        "  return func_dict.get(operator, default_op)()"
      ],
      "execution_count": 52,
      "outputs": []
    },
    {
      "cell_type": "code",
      "metadata": {
        "colab": {
          "base_uri": "https://localhost:8080/"
        },
        "id": "KdF-lCkO1jnR",
        "outputId": "82b30e6d-cb2e-41ab-f6da-a86645678c38"
      },
      "source": [
        "func_dict.get('add','default_op')\n",
        "#add라는 키는 존재하므로 add 키의 값을 출력"
      ],
      "execution_count": 50,
      "outputs": [
        {
          "output_type": "execute_result",
          "data": {
            "text/plain": [
              "<function __main__.plus>"
            ]
          },
          "metadata": {},
          "execution_count": 50
        }
      ]
    },
    {
      "cell_type": "code",
      "metadata": {
        "colab": {
          "base_uri": "https://localhost:8080/",
          "height": 36
        },
        "id": "uEr-AAAl4Mjd",
        "outputId": "d03768b4-e210-4347-848f-49c595c94725"
      },
      "source": [
        "func_dict.get('bdd','default_op')\n",
        "#bdd는 존재하지 않으므로 default_op 출력"
      ],
      "execution_count": 51,
      "outputs": [
        {
          "output_type": "execute_result",
          "data": {
            "application/vnd.google.colaboratory.intrinsic+json": {
              "type": "string"
            },
            "text/plain": [
              "'default_op'"
            ]
          },
          "metadata": {},
          "execution_count": 51
        }
      ]
    },
    {
      "cell_type": "code",
      "metadata": {
        "id": "mZOJ1ojL63Vm"
      },
      "source": [
        ""
      ],
      "execution_count": null,
      "outputs": []
    }
  ]
}