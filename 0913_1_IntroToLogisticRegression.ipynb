{
  "nbformat": 4,
  "nbformat_minor": 0,
  "metadata": {
    "colab": {
      "name": "0913_1_IntroToLogisticRegression.ipynb",
      "provenance": []
    },
    "kernelspec": {
      "name": "python3",
      "display_name": "Python 3"
    },
    "language_info": {
      "name": "python"
    }
  },
  "cells": [
    {
      "cell_type": "markdown",
      "metadata": {
        "id": "rNUTAEsZnlAw"
      },
      "source": [
        "#Fish Data"
      ]
    },
    {
      "cell_type": "code",
      "metadata": {
        "colab": {
          "base_uri": "https://localhost:8080/",
          "height": 204
        },
        "id": "yqvSXjs3bZBx",
        "outputId": "a1f1fcec-9b54-4916-8374-a2e7398602b7"
      },
      "source": [
        "import pandas as pd\n",
        "\n",
        "fish = pd.read_csv('Fish.csv', error_bad_lines=False) #오류 발생하는 데이터 빼고 보여달라\n",
        "fish.head()"
      ],
      "execution_count": 2,
      "outputs": [
        {
          "output_type": "execute_result",
          "data": {
            "text/html": [
              "<div>\n",
              "<style scoped>\n",
              "    .dataframe tbody tr th:only-of-type {\n",
              "        vertical-align: middle;\n",
              "    }\n",
              "\n",
              "    .dataframe tbody tr th {\n",
              "        vertical-align: top;\n",
              "    }\n",
              "\n",
              "    .dataframe thead th {\n",
              "        text-align: right;\n",
              "    }\n",
              "</style>\n",
              "<table border=\"1\" class=\"dataframe\">\n",
              "  <thead>\n",
              "    <tr style=\"text-align: right;\">\n",
              "      <th></th>\n",
              "      <th>Species</th>\n",
              "      <th>Weight</th>\n",
              "      <th>Length1</th>\n",
              "      <th>Length2</th>\n",
              "      <th>Length3</th>\n",
              "      <th>Height</th>\n",
              "      <th>Width</th>\n",
              "    </tr>\n",
              "  </thead>\n",
              "  <tbody>\n",
              "    <tr>\n",
              "      <th>0</th>\n",
              "      <td>Bream</td>\n",
              "      <td>242.0</td>\n",
              "      <td>23.2</td>\n",
              "      <td>25.4</td>\n",
              "      <td>30.0</td>\n",
              "      <td>11.5200</td>\n",
              "      <td>4.0200</td>\n",
              "    </tr>\n",
              "    <tr>\n",
              "      <th>1</th>\n",
              "      <td>Bream</td>\n",
              "      <td>290.0</td>\n",
              "      <td>24.0</td>\n",
              "      <td>26.3</td>\n",
              "      <td>31.2</td>\n",
              "      <td>12.4800</td>\n",
              "      <td>4.3056</td>\n",
              "    </tr>\n",
              "    <tr>\n",
              "      <th>2</th>\n",
              "      <td>Bream</td>\n",
              "      <td>340.0</td>\n",
              "      <td>23.9</td>\n",
              "      <td>26.5</td>\n",
              "      <td>31.1</td>\n",
              "      <td>12.3778</td>\n",
              "      <td>4.6961</td>\n",
              "    </tr>\n",
              "    <tr>\n",
              "      <th>3</th>\n",
              "      <td>Bream</td>\n",
              "      <td>363.0</td>\n",
              "      <td>26.3</td>\n",
              "      <td>29.0</td>\n",
              "      <td>33.5</td>\n",
              "      <td>12.7300</td>\n",
              "      <td>4.4555</td>\n",
              "    </tr>\n",
              "    <tr>\n",
              "      <th>4</th>\n",
              "      <td>Bream</td>\n",
              "      <td>430.0</td>\n",
              "      <td>26.5</td>\n",
              "      <td>29.0</td>\n",
              "      <td>34.0</td>\n",
              "      <td>12.4440</td>\n",
              "      <td>5.1340</td>\n",
              "    </tr>\n",
              "  </tbody>\n",
              "</table>\n",
              "</div>"
            ],
            "text/plain": [
              "  Species  Weight  Length1  Length2  Length3   Height   Width\n",
              "0   Bream   242.0     23.2     25.4     30.0  11.5200  4.0200\n",
              "1   Bream   290.0     24.0     26.3     31.2  12.4800  4.3056\n",
              "2   Bream   340.0     23.9     26.5     31.1  12.3778  4.6961\n",
              "3   Bream   363.0     26.3     29.0     33.5  12.7300  4.4555\n",
              "4   Bream   430.0     26.5     29.0     34.0  12.4440  5.1340"
            ]
          },
          "metadata": {},
          "execution_count": 2
        }
      ]
    },
    {
      "cell_type": "code",
      "metadata": {
        "colab": {
          "base_uri": "https://localhost:8080/"
        },
        "id": "o7zKF5IsizDA",
        "outputId": "3967023b-f2b1-4557-b465-07fc8daf7ecd"
      },
      "source": [
        "fish.isnull().sum()"
      ],
      "execution_count": 6,
      "outputs": [
        {
          "output_type": "execute_result",
          "data": {
            "text/plain": [
              "Species    0\n",
              "Weight     0\n",
              "Length1    0\n",
              "Length2    0\n",
              "Length3    0\n",
              "Height     0\n",
              "Width      0\n",
              "dtype: int64"
            ]
          },
          "metadata": {},
          "execution_count": 6
        }
      ]
    },
    {
      "cell_type": "code",
      "metadata": {
        "colab": {
          "base_uri": "https://localhost:8080/"
        },
        "id": "G3kou1uxh_pK",
        "outputId": "06f4d4e0-abaf-46dd-a511-b57189a8a525"
      },
      "source": [
        "len(fish)"
      ],
      "execution_count": 3,
      "outputs": [
        {
          "output_type": "execute_result",
          "data": {
            "text/plain": [
              "159"
            ]
          },
          "metadata": {},
          "execution_count": 3
        }
      ]
    },
    {
      "cell_type": "code",
      "metadata": {
        "colab": {
          "base_uri": "https://localhost:8080/"
        },
        "id": "NuMIJjsfiYIu",
        "outputId": "76b1e13e-8116-4618-dc2b-3e5bc2a0f64b"
      },
      "source": [
        "#해당 feature에 어떤 값들이 있는지 알고 싶을 때\n",
        "fish['Species'].unique()"
      ],
      "execution_count": 5,
      "outputs": [
        {
          "output_type": "execute_result",
          "data": {
            "text/plain": [
              "array(['Bream', 'Roach', 'Whitefish', 'Parkki', 'Perch', 'Pike', 'Smelt'],\n",
              "      dtype=object)"
            ]
          },
          "metadata": {},
          "execution_count": 5
        }
      ]
    },
    {
      "cell_type": "code",
      "metadata": {
        "id": "AlLhvNP5ieyM"
      },
      "source": [
        "x = fish.iloc[:, 1:] #모든 행, 2번째~끝 열\n",
        "y = fish.loc[:,'Species']\n",
        "\n",
        "#iloc은 숫자로 위치 표현\n",
        "#loc은 문자 등 사람이 보기 편한 방식으로 위치 표현"
      ],
      "execution_count": 7,
      "outputs": []
    },
    {
      "cell_type": "code",
      "metadata": {
        "id": "V058NKn4jwUm"
      },
      "source": [
        "from sklearn.preprocessing import MinMaxScaler\n",
        "\n",
        "scaler = MinMaxScaler()\n",
        "scaler.fit(x) #범위를 동일하게 하는 식을 찾아주기(큰 범위는 나누기로 줄이거나, 위치가 높이있는 범위는 빼기로 아래로 일괄적으로 내려주거나 등)\n",
        "x_scaled = scaler.transform(x) #그 식을 이용하여 x를 변환 해주기"
      ],
      "execution_count": 8,
      "outputs": []
    },
    {
      "cell_type": "code",
      "metadata": {
        "id": "-kIprZfQkOPz"
      },
      "source": [
        "from sklearn.preprocessing import LabelEncoder #라벨이 숫자로 출력되게끔 하는 것(정확히는 2진법으로 표현해주는 것 ex)[1000],[0100]...)\n",
        "\n",
        "label_encoder = LabelEncoder()\n",
        "y = label_encoder.fit_transform(y)\n",
        "#위의 셀과 지금 셀에서 쓰이는 fit은 전처리 시 사용되는 fit >>전체 데이터에 대해서 적용(train data한정 아님)"
      ],
      "execution_count": 9,
      "outputs": []
    },
    {
      "cell_type": "code",
      "metadata": {
        "id": "Uwyewy2Ykytc"
      },
      "source": [
        "from sklearn.model_selection import train_test_split\n",
        "\n",
        "x_train, x_test, y_train, y_test = train_test_split(x_scaled, y, test_size=0.2, random_state=42)"
      ],
      "execution_count": 11,
      "outputs": []
    },
    {
      "cell_type": "code",
      "metadata": {
        "colab": {
          "base_uri": "https://localhost:8080/"
        },
        "id": "ypUjOs5mlEea",
        "outputId": "fe20388d-d94a-4b4e-f761-d67cd8eb05c4"
      },
      "source": [
        "from sklearn.linear_model import LogisticRegression\n",
        "\n",
        "clf = LogisticRegression()\n",
        "clf.fit(x_train,y_train)"
      ],
      "execution_count": 12,
      "outputs": [
        {
          "output_type": "execute_result",
          "data": {
            "text/plain": [
              "LogisticRegression(C=1.0, class_weight=None, dual=False, fit_intercept=True,\n",
              "                   intercept_scaling=1, l1_ratio=None, max_iter=100,\n",
              "                   multi_class='auto', n_jobs=None, penalty='l2',\n",
              "                   random_state=None, solver='lbfgs', tol=0.0001, verbose=0,\n",
              "                   warm_start=False)"
            ]
          },
          "metadata": {},
          "execution_count": 12
        }
      ]
    },
    {
      "cell_type": "code",
      "metadata": {
        "id": "4K1FBGb7lZaf"
      },
      "source": [
        "y_pred = clf.predict(x_test)"
      ],
      "execution_count": 13,
      "outputs": []
    },
    {
      "cell_type": "code",
      "metadata": {
        "colab": {
          "base_uri": "https://localhost:8080/"
        },
        "id": "0sbjOuEUlfTd",
        "outputId": "416ff995-8e5b-4b66-9fd9-37de9eba6a3c"
      },
      "source": [
        "from sklearn.metrics import accuracy_score\n",
        "\n",
        "accuracy = accuracy_score(y_test, y_pred)\n",
        "print(\"Accuracy: {:.2f}%\".format(accuracy*100))"
      ],
      "execution_count": 14,
      "outputs": [
        {
          "output_type": "stream",
          "name": "stdout",
          "text": [
            "Accuracy: 81.25%\n"
          ]
        }
      ]
    },
    {
      "cell_type": "code",
      "metadata": {
        "colab": {
          "base_uri": "https://localhost:8080/",
          "height": 314
        },
        "id": "Q3VSRniNl3ni",
        "outputId": "d45544ff-2110-4088-d173-c0e2fa8bab40"
      },
      "source": [
        "from sklearn.metrics import confusion_matrix\n",
        "import matplotlib.pyplot as plt\n",
        "import seaborn as sns\n",
        "\n",
        "cf = confusion_matrix(y_test,y_pred)\n",
        "plt.figure()\n",
        "sns.heatmap(cf, annot=True) #annotation 주석달다\n",
        "plt.xlabel('Prediction')\n",
        "plt.ylabel('Target')\n",
        "plt.title('Confusion_Matrix')"
      ],
      "execution_count": 19,
      "outputs": [
        {
          "output_type": "execute_result",
          "data": {
            "text/plain": [
              "Text(0.5, 1.0, 'Confusion_Matrix')"
            ]
          },
          "metadata": {},
          "execution_count": 19
        },
        {
          "output_type": "display_data",
          "data": {
            "image/png": "[encoded data removed]",
            "text/plain": [
              "<Figure size 432x288 with 2 Axes>"
            ]
          },
          "metadata": {
            "needs_background": "light"
          }
        }
      ]
    },
    {
      "cell_type": "code",
      "metadata": {
        "id": "xVxsRUotmZlV"
      },
      "source": [
        ""
      ],
      "execution_count": null,
      "outputs": []
    },
    {
      "cell_type": "markdown",
      "metadata": {
        "id": "2KnIEkKTno9_"
      },
      "source": [
        "#BDIAG Data"
      ]
    },
    {
      "cell_type": "code",
      "metadata": {
        "id": "9pAoXxH1nrgK"
      },
      "source": [
        "import pandas as pd\n",
        "import numpy as np\n",
        "import matplotlib.pyplot as plt\n",
        "import seaborn as sns"
      ],
      "execution_count": 20,
      "outputs": []
    },
    {
      "cell_type": "code",
      "metadata": {
        "colab": {
          "base_uri": "https://localhost:8080/",
          "height": 395
        },
        "id": "avOOt0RYn8sW",
        "outputId": "5f65a8cb-d1bb-40b6-b18e-fb02ad3171bb"
      },
      "source": [
        "dt = pd.read_csv('bdiag.csv', error_bad_lines=False)\n",
        "dt.sample(10)"
      ],
      "execution_count": 24,
      "outputs": [
        {
          "output_type": "execute_result",
          "data": {
            "text/html": [
              "<div>\n",
              "<style scoped>\n",
              "    .dataframe tbody tr th:only-of-type {\n",
              "        vertical-align: middle;\n",
              "    }\n",
              "\n",
              "    .dataframe tbody tr th {\n",
              "        vertical-align: top;\n",
              "    }\n",
              "\n",
              "    .dataframe thead th {\n",
              "        text-align: right;\n",
              "    }\n",
              "</style>\n",
              "<table border=\"1\" class=\"dataframe\">\n",
              "  <thead>\n",
              "    <tr style=\"text-align: right;\">\n",
              "      <th></th>\n",
              "      <th>id</th>\n",
              "      <th>diagnosis</th>\n",
              "      <th>radius_mean</th>\n",
              "      <th>texture_mean</th>\n",
              "      <th>perimeter_mean</th>\n",
              "      <th>area_mean</th>\n",
              "      <th>smoothness_mean</th>\n",
              "      <th>compactness_mean</th>\n",
              "      <th>concavity_mean</th>\n",
              "      <th>concave points_mean</th>\n",
              "      <th>symmetry_mean</th>\n",
              "      <th>fractal_dimension_mean</th>\n",
              "      <th>radius_se</th>\n",
              "      <th>texture_se</th>\n",
              "      <th>perimeter_se</th>\n",
              "      <th>area_se</th>\n",
              "      <th>smoothness_se</th>\n",
              "      <th>compactness_se</th>\n",
              "      <th>concavity_se</th>\n",
              "      <th>concave points_se</th>\n",
              "      <th>symmetry_se</th>\n",
              "      <th>fractal_dimension_se</th>\n",
              "      <th>radius_worst</th>\n",
              "      <th>texture_worst</th>\n",
              "      <th>perimeter_worst</th>\n",
              "      <th>area_worst</th>\n",
              "      <th>smoothness_worst</th>\n",
              "      <th>compactness_worst</th>\n",
              "      <th>concavity_worst</th>\n",
              "      <th>concave points_worst</th>\n",
              "      <th>symmetry_worst</th>\n",
              "      <th>fractal_dimension_worst</th>\n",
              "    </tr>\n",
              "  </thead>\n",
              "  <tbody>\n",
              "    <tr>\n",
              "      <th>140</th>\n",
              "      <td>868999</td>\n",
              "      <td>B</td>\n",
              "      <td>9.738</td>\n",
              "      <td>11.97</td>\n",
              "      <td>61.24</td>\n",
              "      <td>288.5</td>\n",
              "      <td>0.09250</td>\n",
              "      <td>0.04102</td>\n",
              "      <td>0.000000</td>\n",
              "      <td>0.00000</td>\n",
              "      <td>0.1903</td>\n",
              "      <td>0.06422</td>\n",
              "      <td>0.1988</td>\n",
              "      <td>0.4960</td>\n",
              "      <td>1.218</td>\n",
              "      <td>12.26</td>\n",
              "      <td>0.006040</td>\n",
              "      <td>0.005656</td>\n",
              "      <td>0.000000</td>\n",
              "      <td>0.000000</td>\n",
              "      <td>0.02277</td>\n",
              "      <td>0.003220</td>\n",
              "      <td>10.620</td>\n",
              "      <td>14.10</td>\n",
              "      <td>66.53</td>\n",
              "      <td>342.9</td>\n",
              "      <td>0.12340</td>\n",
              "      <td>0.07204</td>\n",
              "      <td>0.00000</td>\n",
              "      <td>0.00000</td>\n",
              "      <td>0.3105</td>\n",
              "      <td>0.08151</td>\n",
              "    </tr>\n",
              "    <tr>\n",
              "      <th>251</th>\n",
              "      <td>88518501</td>\n",
              "      <td>B</td>\n",
              "      <td>11.500</td>\n",
              "      <td>18.45</td>\n",
              "      <td>73.28</td>\n",
              "      <td>407.4</td>\n",
              "      <td>0.09345</td>\n",
              "      <td>0.05991</td>\n",
              "      <td>0.026380</td>\n",
              "      <td>0.02069</td>\n",
              "      <td>0.1834</td>\n",
              "      <td>0.05934</td>\n",
              "      <td>0.3927</td>\n",
              "      <td>0.8429</td>\n",
              "      <td>2.684</td>\n",
              "      <td>26.99</td>\n",
              "      <td>0.006380</td>\n",
              "      <td>0.010650</td>\n",
              "      <td>0.012450</td>\n",
              "      <td>0.009175</td>\n",
              "      <td>0.02292</td>\n",
              "      <td>0.001461</td>\n",
              "      <td>12.970</td>\n",
              "      <td>22.46</td>\n",
              "      <td>83.12</td>\n",
              "      <td>508.9</td>\n",
              "      <td>0.11830</td>\n",
              "      <td>0.10490</td>\n",
              "      <td>0.08105</td>\n",
              "      <td>0.06544</td>\n",
              "      <td>0.2740</td>\n",
              "      <td>0.06487</td>\n",
              "    </tr>\n",
              "    <tr>\n",
              "      <th>372</th>\n",
              "      <td>9012795</td>\n",
              "      <td>M</td>\n",
              "      <td>21.370</td>\n",
              "      <td>15.10</td>\n",
              "      <td>141.30</td>\n",
              "      <td>1386.0</td>\n",
              "      <td>0.10010</td>\n",
              "      <td>0.15150</td>\n",
              "      <td>0.193200</td>\n",
              "      <td>0.12550</td>\n",
              "      <td>0.1973</td>\n",
              "      <td>0.06183</td>\n",
              "      <td>0.3414</td>\n",
              "      <td>1.3090</td>\n",
              "      <td>2.407</td>\n",
              "      <td>39.06</td>\n",
              "      <td>0.004426</td>\n",
              "      <td>0.026750</td>\n",
              "      <td>0.034370</td>\n",
              "      <td>0.013430</td>\n",
              "      <td>0.01675</td>\n",
              "      <td>0.004367</td>\n",
              "      <td>22.690</td>\n",
              "      <td>21.84</td>\n",
              "      <td>152.10</td>\n",
              "      <td>1535.0</td>\n",
              "      <td>0.11920</td>\n",
              "      <td>0.28400</td>\n",
              "      <td>0.40240</td>\n",
              "      <td>0.19660</td>\n",
              "      <td>0.2730</td>\n",
              "      <td>0.08666</td>\n",
              "    </tr>\n",
              "    <tr>\n",
              "      <th>271</th>\n",
              "      <td>8910748</td>\n",
              "      <td>B</td>\n",
              "      <td>11.290</td>\n",
              "      <td>13.04</td>\n",
              "      <td>72.23</td>\n",
              "      <td>388.0</td>\n",
              "      <td>0.09834</td>\n",
              "      <td>0.07608</td>\n",
              "      <td>0.032650</td>\n",
              "      <td>0.02755</td>\n",
              "      <td>0.1769</td>\n",
              "      <td>0.06270</td>\n",
              "      <td>0.1904</td>\n",
              "      <td>0.5293</td>\n",
              "      <td>1.164</td>\n",
              "      <td>13.17</td>\n",
              "      <td>0.006472</td>\n",
              "      <td>0.011220</td>\n",
              "      <td>0.012820</td>\n",
              "      <td>0.008849</td>\n",
              "      <td>0.01692</td>\n",
              "      <td>0.002817</td>\n",
              "      <td>12.320</td>\n",
              "      <td>16.18</td>\n",
              "      <td>78.27</td>\n",
              "      <td>457.5</td>\n",
              "      <td>0.13580</td>\n",
              "      <td>0.15070</td>\n",
              "      <td>0.12750</td>\n",
              "      <td>0.08750</td>\n",
              "      <td>0.2733</td>\n",
              "      <td>0.08022</td>\n",
              "    </tr>\n",
              "    <tr>\n",
              "      <th>406</th>\n",
              "      <td>905189</td>\n",
              "      <td>B</td>\n",
              "      <td>16.140</td>\n",
              "      <td>14.86</td>\n",
              "      <td>104.30</td>\n",
              "      <td>800.0</td>\n",
              "      <td>0.09495</td>\n",
              "      <td>0.08501</td>\n",
              "      <td>0.055000</td>\n",
              "      <td>0.04528</td>\n",
              "      <td>0.1735</td>\n",
              "      <td>0.05875</td>\n",
              "      <td>0.2387</td>\n",
              "      <td>0.6372</td>\n",
              "      <td>1.729</td>\n",
              "      <td>21.83</td>\n",
              "      <td>0.003958</td>\n",
              "      <td>0.012460</td>\n",
              "      <td>0.018310</td>\n",
              "      <td>0.008747</td>\n",
              "      <td>0.01500</td>\n",
              "      <td>0.001621</td>\n",
              "      <td>17.710</td>\n",
              "      <td>19.58</td>\n",
              "      <td>115.90</td>\n",
              "      <td>947.9</td>\n",
              "      <td>0.12060</td>\n",
              "      <td>0.17220</td>\n",
              "      <td>0.23100</td>\n",
              "      <td>0.11290</td>\n",
              "      <td>0.2778</td>\n",
              "      <td>0.07012</td>\n",
              "    </tr>\n",
              "    <tr>\n",
              "      <th>493</th>\n",
              "      <td>914101</td>\n",
              "      <td>B</td>\n",
              "      <td>12.460</td>\n",
              "      <td>12.83</td>\n",
              "      <td>78.83</td>\n",
              "      <td>477.3</td>\n",
              "      <td>0.07372</td>\n",
              "      <td>0.04043</td>\n",
              "      <td>0.007173</td>\n",
              "      <td>0.01149</td>\n",
              "      <td>0.1613</td>\n",
              "      <td>0.06013</td>\n",
              "      <td>0.3276</td>\n",
              "      <td>1.4860</td>\n",
              "      <td>2.108</td>\n",
              "      <td>24.60</td>\n",
              "      <td>0.010390</td>\n",
              "      <td>0.010030</td>\n",
              "      <td>0.006416</td>\n",
              "      <td>0.007895</td>\n",
              "      <td>0.02869</td>\n",
              "      <td>0.004821</td>\n",
              "      <td>13.190</td>\n",
              "      <td>16.36</td>\n",
              "      <td>83.24</td>\n",
              "      <td>534.0</td>\n",
              "      <td>0.09439</td>\n",
              "      <td>0.06477</td>\n",
              "      <td>0.01674</td>\n",
              "      <td>0.02680</td>\n",
              "      <td>0.2280</td>\n",
              "      <td>0.07028</td>\n",
              "    </tr>\n",
              "    <tr>\n",
              "      <th>151</th>\n",
              "      <td>871001502</td>\n",
              "      <td>B</td>\n",
              "      <td>8.219</td>\n",
              "      <td>20.70</td>\n",
              "      <td>53.27</td>\n",
              "      <td>203.9</td>\n",
              "      <td>0.09405</td>\n",
              "      <td>0.13050</td>\n",
              "      <td>0.132100</td>\n",
              "      <td>0.02168</td>\n",
              "      <td>0.2222</td>\n",
              "      <td>0.08261</td>\n",
              "      <td>0.1935</td>\n",
              "      <td>1.9620</td>\n",
              "      <td>1.243</td>\n",
              "      <td>10.21</td>\n",
              "      <td>0.012430</td>\n",
              "      <td>0.054160</td>\n",
              "      <td>0.077530</td>\n",
              "      <td>0.010220</td>\n",
              "      <td>0.02309</td>\n",
              "      <td>0.011780</td>\n",
              "      <td>9.092</td>\n",
              "      <td>29.72</td>\n",
              "      <td>58.08</td>\n",
              "      <td>249.8</td>\n",
              "      <td>0.16300</td>\n",
              "      <td>0.43100</td>\n",
              "      <td>0.53810</td>\n",
              "      <td>0.07879</td>\n",
              "      <td>0.3322</td>\n",
              "      <td>0.14860</td>\n",
              "    </tr>\n",
              "    <tr>\n",
              "      <th>437</th>\n",
              "      <td>909220</td>\n",
              "      <td>B</td>\n",
              "      <td>14.040</td>\n",
              "      <td>15.98</td>\n",
              "      <td>89.78</td>\n",
              "      <td>611.2</td>\n",
              "      <td>0.08458</td>\n",
              "      <td>0.05895</td>\n",
              "      <td>0.035340</td>\n",
              "      <td>0.02944</td>\n",
              "      <td>0.1714</td>\n",
              "      <td>0.05898</td>\n",
              "      <td>0.3892</td>\n",
              "      <td>1.0460</td>\n",
              "      <td>2.644</td>\n",
              "      <td>32.74</td>\n",
              "      <td>0.007976</td>\n",
              "      <td>0.012950</td>\n",
              "      <td>0.016080</td>\n",
              "      <td>0.009046</td>\n",
              "      <td>0.02005</td>\n",
              "      <td>0.002830</td>\n",
              "      <td>15.660</td>\n",
              "      <td>21.58</td>\n",
              "      <td>101.20</td>\n",
              "      <td>750.0</td>\n",
              "      <td>0.11950</td>\n",
              "      <td>0.12520</td>\n",
              "      <td>0.11170</td>\n",
              "      <td>0.07453</td>\n",
              "      <td>0.2725</td>\n",
              "      <td>0.07234</td>\n",
              "    </tr>\n",
              "    <tr>\n",
              "      <th>166</th>\n",
              "      <td>87127</td>\n",
              "      <td>B</td>\n",
              "      <td>10.800</td>\n",
              "      <td>9.71</td>\n",
              "      <td>68.77</td>\n",
              "      <td>357.6</td>\n",
              "      <td>0.09594</td>\n",
              "      <td>0.05736</td>\n",
              "      <td>0.025310</td>\n",
              "      <td>0.01698</td>\n",
              "      <td>0.1381</td>\n",
              "      <td>0.06400</td>\n",
              "      <td>0.1728</td>\n",
              "      <td>0.4064</td>\n",
              "      <td>1.126</td>\n",
              "      <td>11.48</td>\n",
              "      <td>0.007809</td>\n",
              "      <td>0.009816</td>\n",
              "      <td>0.010990</td>\n",
              "      <td>0.005344</td>\n",
              "      <td>0.01254</td>\n",
              "      <td>0.002120</td>\n",
              "      <td>11.600</td>\n",
              "      <td>12.02</td>\n",
              "      <td>73.66</td>\n",
              "      <td>414.0</td>\n",
              "      <td>0.14360</td>\n",
              "      <td>0.12570</td>\n",
              "      <td>0.10470</td>\n",
              "      <td>0.04603</td>\n",
              "      <td>0.2090</td>\n",
              "      <td>0.07699</td>\n",
              "    </tr>\n",
              "    <tr>\n",
              "      <th>501</th>\n",
              "      <td>91504</td>\n",
              "      <td>M</td>\n",
              "      <td>13.820</td>\n",
              "      <td>24.49</td>\n",
              "      <td>92.33</td>\n",
              "      <td>595.9</td>\n",
              "      <td>0.11620</td>\n",
              "      <td>0.16810</td>\n",
              "      <td>0.135700</td>\n",
              "      <td>0.06759</td>\n",
              "      <td>0.2275</td>\n",
              "      <td>0.07237</td>\n",
              "      <td>0.4751</td>\n",
              "      <td>1.5280</td>\n",
              "      <td>2.974</td>\n",
              "      <td>39.05</td>\n",
              "      <td>0.009680</td>\n",
              "      <td>0.038560</td>\n",
              "      <td>0.034760</td>\n",
              "      <td>0.016160</td>\n",
              "      <td>0.02434</td>\n",
              "      <td>0.006995</td>\n",
              "      <td>16.010</td>\n",
              "      <td>32.94</td>\n",
              "      <td>106.00</td>\n",
              "      <td>788.0</td>\n",
              "      <td>0.17940</td>\n",
              "      <td>0.39660</td>\n",
              "      <td>0.33810</td>\n",
              "      <td>0.15210</td>\n",
              "      <td>0.3651</td>\n",
              "      <td>0.11830</td>\n",
              "    </tr>\n",
              "  </tbody>\n",
              "</table>\n",
              "</div>"
            ],
            "text/plain": [
              "            id diagnosis  ...  symmetry_worst  fractal_dimension_worst\n",
              "140     868999         B  ...          0.3105                  0.08151\n",
              "251   88518501         B  ...          0.2740                  0.06487\n",
              "372    9012795         M  ...          0.2730                  0.08666\n",
              "271    8910748         B  ...          0.2733                  0.08022\n",
              "406     905189         B  ...          0.2778                  0.07012\n",
              "493     914101         B  ...          0.2280                  0.07028\n",
              "151  871001502         B  ...          0.3322                  0.14860\n",
              "437     909220         B  ...          0.2725                  0.07234\n",
              "166      87127         B  ...          0.2090                  0.07699\n",
              "501      91504         M  ...          0.3651                  0.11830\n",
              "\n",
              "[10 rows x 32 columns]"
            ]
          },
          "metadata": {},
          "execution_count": 24
        }
      ]
    },
    {
      "cell_type": "code",
      "metadata": {
        "id": "xXOKdN_AoFsA"
      },
      "source": [
        "x = dt.iloc[:,2:]\n",
        "y = dt.iloc[:,1]"
      ],
      "execution_count": 25,
      "outputs": []
    },
    {
      "cell_type": "code",
      "metadata": {
        "colab": {
          "base_uri": "https://localhost:8080/"
        },
        "id": "2wEDBG8apI-F",
        "outputId": "42ec131a-ecfc-49fa-9fe6-4505c90d768d"
      },
      "source": [
        "dt['diagnosis'].unique()"
      ],
      "execution_count": 26,
      "outputs": [
        {
          "output_type": "execute_result",
          "data": {
            "text/plain": [
              "array(['M', 'B'], dtype=object)"
            ]
          },
          "metadata": {},
          "execution_count": 26
        }
      ]
    },
    {
      "cell_type": "code",
      "metadata": {
        "colab": {
          "base_uri": "https://localhost:8080/"
        },
        "id": "oPvgVmfUpQ3c",
        "outputId": "8ddabee2-1e60-40c4-fd91-0ea44efd5e17"
      },
      "source": [
        "dt.isnull().sum()"
      ],
      "execution_count": 27,
      "outputs": [
        {
          "output_type": "execute_result",
          "data": {
            "text/plain": [
              "id                         0\n",
              "diagnosis                  0\n",
              "radius_mean                0\n",
              "texture_mean               0\n",
              "perimeter_mean             0\n",
              "area_mean                  0\n",
              "smoothness_mean            0\n",
              "compactness_mean           0\n",
              "concavity_mean             0\n",
              "concave points_mean        0\n",
              "symmetry_mean              0\n",
              "fractal_dimension_mean     0\n",
              "radius_se                  0\n",
              "texture_se                 0\n",
              "perimeter_se               0\n",
              "area_se                    0\n",
              "smoothness_se              0\n",
              "compactness_se             0\n",
              "concavity_se               0\n",
              "concave points_se          0\n",
              "symmetry_se                0\n",
              "fractal_dimension_se       0\n",
              "radius_worst               0\n",
              "texture_worst              0\n",
              "perimeter_worst            0\n",
              "area_worst                 0\n",
              "smoothness_worst           0\n",
              "compactness_worst          0\n",
              "concavity_worst            0\n",
              "concave points_worst       0\n",
              "symmetry_worst             0\n",
              "fractal_dimension_worst    0\n",
              "dtype: int64"
            ]
          },
          "metadata": {},
          "execution_count": 27
        }
      ]
    },
    {
      "cell_type": "code",
      "metadata": {
        "id": "egri-IySpljE"
      },
      "source": [
        "#만약 null값이 있다면\n",
        "dt.dropna(inplace=True)"
      ],
      "execution_count": 28,
      "outputs": []
    },
    {
      "cell_type": "code",
      "metadata": {
        "id": "zWEMNkytp3lm"
      },
      "source": [
        "from sklearn.preprocessing import MinMaxScaler\n",
        "\n",
        "scaler = MinMaxScaler()\n",
        "x = scaler.fit_transform(x)"
      ],
      "execution_count": 37,
      "outputs": []
    },
    {
      "cell_type": "code",
      "metadata": {
        "id": "moGSHlJAqMUu"
      },
      "source": [
        "from sklearn.preprocessing import LabelEncoder\n",
        "\n",
        "label_encoder = LabelEncoder()\n",
        "y = label_encoder.fit_transform(y)"
      ],
      "execution_count": 36,
      "outputs": []
    },
    {
      "cell_type": "code",
      "metadata": {
        "id": "WICSFiC2rC-X"
      },
      "source": [
        "from sklearn.model_selection import train_test_split\n",
        "\n",
        "x_train, x_test, y_train, y_test = train_test_split(x, y, test_size=0.2, random_state=81)"
      ],
      "execution_count": 38,
      "outputs": []
    },
    {
      "cell_type": "code",
      "metadata": {
        "colab": {
          "base_uri": "https://localhost:8080/"
        },
        "id": "PK4fOHhrrbFx",
        "outputId": "499643b8-0383-4501-b3c4-cd907e048246"
      },
      "source": [
        "from sklearn.linear_model import LogisticRegression\n",
        "\n",
        "clf = LogisticRegression()\n",
        "clf.fit(x_train,y_train)"
      ],
      "execution_count": 39,
      "outputs": [
        {
          "output_type": "execute_result",
          "data": {
            "text/plain": [
              "LogisticRegression(C=1.0, class_weight=None, dual=False, fit_intercept=True,\n",
              "                   intercept_scaling=1, l1_ratio=None, max_iter=100,\n",
              "                   multi_class='auto', n_jobs=None, penalty='l2',\n",
              "                   random_state=None, solver='lbfgs', tol=0.0001, verbose=0,\n",
              "                   warm_start=False)"
            ]
          },
          "metadata": {},
          "execution_count": 39
        }
      ]
    },
    {
      "cell_type": "code",
      "metadata": {
        "id": "xpcnmx14rmZn"
      },
      "source": [
        "y_pred = clf.predict(x_test)"
      ],
      "execution_count": 40,
      "outputs": []
    },
    {
      "cell_type": "code",
      "metadata": {
        "colab": {
          "base_uri": "https://localhost:8080/"
        },
        "id": "pOoXWBUtrqye",
        "outputId": "9a5e815c-c137-4725-93a7-2ffb67112621"
      },
      "source": [
        "from sklearn.metrics import accuracy_score\n",
        "\n",
        "accuracy = accuracy_score(y_test, y_pred)\n",
        "print(\"Accuracy: {:.2f}%\".format(accuracy*100))"
      ],
      "execution_count": 41,
      "outputs": [
        {
          "output_type": "stream",
          "name": "stdout",
          "text": [
            "Accuracy: 90.35%\n"
          ]
        }
      ]
    },
    {
      "cell_type": "code",
      "metadata": {
        "colab": {
          "base_uri": "https://localhost:8080/",
          "height": 314
        },
        "id": "FM1udnllr7pA",
        "outputId": "053d2746-5e36-4c4b-de8e-f9208b371912"
      },
      "source": [
        "from sklearn.metrics import confusion_matrix\n",
        "\n",
        "cf = confusion_matrix(y_test,y_pred)\n",
        "plt.figure()\n",
        "sns.heatmap(cf, annot=True)\n",
        "plt.xlabel('Prediction')\n",
        "plt.ylabel('Diagnosis')\n",
        "plt.title('Confusion_Matrix')"
      ],
      "execution_count": 43,
      "outputs": [
        {
          "output_type": "execute_result",
          "data": {
            "text/plain": [
              "Text(0.5, 1.0, 'Confusion_Matrix')"
            ]
          },
          "metadata": {},
          "execution_count": 43
        },
        {
          "output_type": "display_data",
          "data": {
            "image/png": "[encoded data removed]",
            "text/plain": [
              "<Figure size 432x288 with 2 Axes>"
            ]
          },
          "metadata": {
            "needs_background": "light"
          }
        }
      ]
    },
    {
      "cell_type": "code",
      "metadata": {
        "id": "NPPLQp3Asdt-"
      },
      "source": [
        ""
      ],
      "execution_count": null,
      "outputs": []
    }
  ]
}