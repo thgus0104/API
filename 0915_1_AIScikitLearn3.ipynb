{
  "nbformat": 4,
  "nbformat_minor": 0,
  "metadata": {
    "colab": {
      "name": "0915_1_AIScikitLearn3.ipynb",
      "provenance": []
    },
    "kernelspec": {
      "name": "python3",
      "display_name": "Python 3"
    },
    "language_info": {
      "name": "python"
    }
  },
  "cells": [
    {
      "cell_type": "markdown",
      "metadata": {
        "id": "soHg2I3S6xt-"
      },
      "source": [
        "#SVM"
      ]
    },
    {
      "cell_type": "markdown",
      "metadata": {
        "id": "zoRDubRj67tR"
      },
      "source": [
        "시스템 입력"
      ]
    },
    {
      "cell_type": "code",
      "metadata": {
        "id": "Uoyn8s596qXN"
      },
      "source": [
        "import numpy as np\n",
        "from sklearn import svm"
      ],
      "execution_count": 1,
      "outputs": []
    },
    {
      "cell_type": "markdown",
      "metadata": {
        "id": "OB84Qjnh69tB"
      },
      "source": [
        "데이터 입력"
      ]
    },
    {
      "cell_type": "code",
      "metadata": {
        "id": "0J2LEXzz65nL"
      },
      "source": [
        "#데이터입력\n",
        "x = np.array([ [0,0], [1,1] ])\n",
        "#분류라벨입력\n",
        "y=[0, 1]"
      ],
      "execution_count": 7,
      "outputs": []
    },
    {
      "cell_type": "markdown",
      "metadata": {
        "id": "yL1DA8lc7R1-"
      },
      "source": [
        "SVM 구현"
      ]
    },
    {
      "cell_type": "code",
      "metadata": {
        "colab": {
          "base_uri": "https://localhost:8080/"
        },
        "id": "jM4FP0r-7Qur",
        "outputId": "94309ac5-9bee-4baa-af62-fbb9bf892e18"
      },
      "source": [
        "LinearSVM = svm.LinearSVC()\n",
        "LinearSVM.fit(x, y)"
      ],
      "execution_count": 8,
      "outputs": [
        {
          "output_type": "execute_result",
          "data": {
            "text/plain": [
              "LinearSVC(C=1.0, class_weight=None, dual=True, fit_intercept=True,\n",
              "          intercept_scaling=1, loss='squared_hinge', max_iter=1000,\n",
              "          multi_class='ovr', penalty='l2', random_state=None, tol=0.0001,\n",
              "          verbose=0)"
            ]
          },
          "metadata": {},
          "execution_count": 8
        }
      ]
    },
    {
      "cell_type": "markdown",
      "metadata": {
        "id": "hbw6kH9D7t5F"
      },
      "source": [
        "#새로운 데이터 분류"
      ]
    },
    {
      "cell_type": "code",
      "metadata": {
        "colab": {
          "base_uri": "https://localhost:8080/"
        },
        "id": "39yqoqs17c-Y",
        "outputId": "1710d7eb-812d-4fa6-f35a-f14ca3627fef"
      },
      "source": [
        "LinearSVM.predict([[2,2]])"
      ],
      "execution_count": 9,
      "outputs": [
        {
          "output_type": "execute_result",
          "data": {
            "text/plain": [
              "array([1])"
            ]
          },
          "metadata": {},
          "execution_count": 9
        }
      ]
    },
    {
      "cell_type": "code",
      "metadata": {
        "colab": {
          "base_uri": "https://localhost:8080/"
        },
        "id": "3AqNliQr70JE",
        "outputId": "534d2df1-130f-4f00-f8ac-18c3319b613a"
      },
      "source": [
        "#기울기\n",
        "print(LinearSVM.coef_[0])\n",
        "\n",
        "#나오는 값은 각각 a1, a2\n",
        "#(입력한데이터가 2개 이므로 기울기도 2개)"
      ],
      "execution_count": 13,
      "outputs": [
        {
          "output_type": "stream",
          "name": "stdout",
          "text": [
            "[0.58823254 0.58823254]\n"
          ]
        }
      ]
    },
    {
      "cell_type": "code",
      "metadata": {
        "colab": {
          "base_uri": "https://localhost:8080/"
        },
        "id": "aEan37GF76qw",
        "outputId": "b8716e7c-aeaf-4ca5-c086-cc14f75ba606"
      },
      "source": [
        "#y절편\n",
        "print(LinearSVM.intercept_[0])"
      ],
      "execution_count": 11,
      "outputs": [
        {
          "output_type": "stream",
          "name": "stdout",
          "text": [
            "-0.47058135542107304\n"
          ]
        }
      ]
    },
    {
      "cell_type": "markdown",
      "metadata": {
        "id": "tCQIGa6d8jS9"
      },
      "source": [
        "선형 svm의 초평면 그려보기"
      ]
    },
    {
      "cell_type": "code",
      "metadata": {
        "id": "0MPIRX2f8dDk"
      },
      "source": [
        "import matplotlib.pyplot as plt\n",
        "from matplotlib import style\n",
        "style.use(\"ggplot\")"
      ],
      "execution_count": 15,
      "outputs": []
    },
    {
      "cell_type": "code",
      "metadata": {
        "colab": {
          "base_uri": "https://localhost:8080/",
          "height": 284
        },
        "id": "aEKPFWvM8vNz",
        "outputId": "d6a79419-7e33-42bd-cf0d-91e36a81589b"
      },
      "source": [
        "w = LinearSVM.coef_[0]\n",
        "print(w)\n",
        "b = LinearSVM.intercept_[0]\n",
        "slope= -w[0] / w[1]\n",
        "xx = np.linspace(0, 1.5)\n",
        "yy = slope * xx - b/w[1]\n",
        "h0 = plt.plot(xx, yy, '-k', label='hyperplane')\n",
        "plt.scatter(X[:, 0], X[:, 1], c=y)\n",
        "plt.legend()\n",
        "plt.show()"
      ],
      "execution_count": 16,
      "outputs": [
        {
          "output_type": "stream",
          "name": "stdout",
          "text": [
            "[0.58823254 0.58823254]\n"
          ]
        },
        {
          "output_type": "display_data",
          "data": {
            "image/png": "[encoded data removed]",
            "text/plain": [
              "<Figure size 432x288 with 1 Axes>"
            ]
          },
          "metadata": {}
        }
      ]
    },
    {
      "cell_type": "markdown",
      "metadata": {
        "id": "9s_-fDgGEdzT"
      },
      "source": [
        "#비선형 SVM"
      ]
    },
    {
      "cell_type": "code",
      "metadata": {
        "id": "F4KYK7kw9a6I"
      },
      "source": [
        "import numpy as np\n",
        "from sklearn import svm\n",
        "import matplotlib.pyplot as plt\n"
      ],
      "execution_count": 17,
      "outputs": []
    },
    {
      "cell_type": "code",
      "metadata": {
        "id": "BjhL_0H8Engy"
      },
      "source": [
        "x = np.array([[0,0],[0,1],[1,0],[1,1]])\n",
        "y = [0, 1, 1, 0]"
      ],
      "execution_count": 18,
      "outputs": []
    },
    {
      "cell_type": "code",
      "metadata": {
        "colab": {
          "base_uri": "https://localhost:8080/"
        },
        "id": "CMHCiWSiE1xi",
        "outputId": "8d485ac4-4822-44a0-e35c-089a7705fb4c"
      },
      "source": [
        "SVM_XOR = svm.SVC()\n",
        "SVM_XOR.fit(x, y)"
      ],
      "execution_count": 19,
      "outputs": [
        {
          "output_type": "execute_result",
          "data": {
            "text/plain": [
              "SVC(C=1.0, break_ties=False, cache_size=200, class_weight=None, coef0=0.0,\n",
              "    decision_function_shape='ovr', degree=3, gamma='scale', kernel='rbf',\n",
              "    max_iter=-1, probability=False, random_state=None, shrinking=True,\n",
              "    tol=0.001, verbose=False)"
            ]
          },
          "metadata": {},
          "execution_count": 19
        }
      ]
    },
    {
      "cell_type": "code",
      "metadata": {
        "colab": {
          "base_uri": "https://localhost:8080/"
        },
        "id": "GGLJAcs2FBdD",
        "outputId": "65827870-8c17-4a9d-d3a7-3094bd457a2d"
      },
      "source": [
        "#새로운데이터 예측\n",
        "test_data = np.array([[0.8, 0.8], [0.2, 0.9]])\n",
        "SVM_XOR.predict(test_data)"
      ],
      "execution_count": 21,
      "outputs": [
        {
          "output_type": "execute_result",
          "data": {
            "text/plain": [
              "array([0, 1])"
            ]
          },
          "metadata": {},
          "execution_count": 21
        }
      ]
    },
    {
      "cell_type": "code",
      "metadata": {
        "id": "fML2WaHOFWV4"
      },
      "source": [
        ""
      ],
      "execution_count": null,
      "outputs": []
    }
  ]
}