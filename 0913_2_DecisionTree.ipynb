{
  "nbformat": 4,
  "nbformat_minor": 0,
  "metadata": {
    "colab": {
      "name": "0913_2_DecisionTree.ipynb",
      "provenance": []
    },
    "kernelspec": {
      "name": "python3",
      "display_name": "Python 3"
    },
    "language_info": {
      "name": "python"
    }
  },
  "cells": [
    {
      "cell_type": "markdown",
      "metadata": {
        "id": "5-tqFlbiuuDz"
      },
      "source": [
        "#데이터 전처리"
      ]
    },
    {
      "cell_type": "code",
      "metadata": {
        "id": "T9KMSrVSrJ_8"
      },
      "source": [
        "import pandas as pd\n",
        "import numpy as np\n",
        "import matplotlib.pyplot as plt"
      ],
      "execution_count": 18,
      "outputs": []
    },
    {
      "cell_type": "code",
      "metadata": {
        "colab": {
          "base_uri": "https://localhost:8080/",
          "height": 358
        },
        "id": "BrAVaYSNraYR",
        "outputId": "c89e1139-0ce5-44a8-a3ec-2f32fc38b00a"
      },
      "source": [
        "loandata = pd.read_csv(\"madfhantr.csv\")\n",
        "loandata.head(10) #10개 ()안에 입력안하면 5개"
      ],
      "execution_count": 19,
      "outputs": [
        {
          "output_type": "execute_result",
          "data": {
            "text/html": [
              "<div>\n",
              "<style scoped>\n",
              "    .dataframe tbody tr th:only-of-type {\n",
              "        vertical-align: middle;\n",
              "    }\n",
              "\n",
              "    .dataframe tbody tr th {\n",
              "        vertical-align: top;\n",
              "    }\n",
              "\n",
              "    .dataframe thead th {\n",
              "        text-align: right;\n",
              "    }\n",
              "</style>\n",
              "<table border=\"1\" class=\"dataframe\">\n",
              "  <thead>\n",
              "    <tr style=\"text-align: right;\">\n",
              "      <th></th>\n",
              "      <th>Loan_ID</th>\n",
              "      <th>Gender</th>\n",
              "      <th>Married</th>\n",
              "      <th>Dependents</th>\n",
              "      <th>Education</th>\n",
              "      <th>Self_Employed</th>\n",
              "      <th>ApplicantIncome</th>\n",
              "      <th>CoapplicantIncome</th>\n",
              "      <th>LoanAmount</th>\n",
              "      <th>Loan_Amount_Term</th>\n",
              "      <th>Credit_History</th>\n",
              "      <th>Property_Area</th>\n",
              "      <th>Loan_Status</th>\n",
              "    </tr>\n",
              "  </thead>\n",
              "  <tbody>\n",
              "    <tr>\n",
              "      <th>0</th>\n",
              "      <td>LP001002</td>\n",
              "      <td>Male</td>\n",
              "      <td>No</td>\n",
              "      <td>0</td>\n",
              "      <td>Graduate</td>\n",
              "      <td>No</td>\n",
              "      <td>5849</td>\n",
              "      <td>0.0</td>\n",
              "      <td>NaN</td>\n",
              "      <td>360.0</td>\n",
              "      <td>1.0</td>\n",
              "      <td>Urban</td>\n",
              "      <td>Y</td>\n",
              "    </tr>\n",
              "    <tr>\n",
              "      <th>1</th>\n",
              "      <td>LP001003</td>\n",
              "      <td>Male</td>\n",
              "      <td>Yes</td>\n",
              "      <td>1</td>\n",
              "      <td>Graduate</td>\n",
              "      <td>No</td>\n",
              "      <td>4583</td>\n",
              "      <td>1508.0</td>\n",
              "      <td>128.0</td>\n",
              "      <td>360.0</td>\n",
              "      <td>1.0</td>\n",
              "      <td>Rural</td>\n",
              "      <td>N</td>\n",
              "    </tr>\n",
              "    <tr>\n",
              "      <th>2</th>\n",
              "      <td>LP001005</td>\n",
              "      <td>Male</td>\n",
              "      <td>Yes</td>\n",
              "      <td>0</td>\n",
              "      <td>Graduate</td>\n",
              "      <td>Yes</td>\n",
              "      <td>3000</td>\n",
              "      <td>0.0</td>\n",
              "      <td>66.0</td>\n",
              "      <td>360.0</td>\n",
              "      <td>1.0</td>\n",
              "      <td>Urban</td>\n",
              "      <td>Y</td>\n",
              "    </tr>\n",
              "    <tr>\n",
              "      <th>3</th>\n",
              "      <td>LP001006</td>\n",
              "      <td>Male</td>\n",
              "      <td>Yes</td>\n",
              "      <td>0</td>\n",
              "      <td>Not Graduate</td>\n",
              "      <td>No</td>\n",
              "      <td>2583</td>\n",
              "      <td>2358.0</td>\n",
              "      <td>120.0</td>\n",
              "      <td>360.0</td>\n",
              "      <td>1.0</td>\n",
              "      <td>Urban</td>\n",
              "      <td>Y</td>\n",
              "    </tr>\n",
              "    <tr>\n",
              "      <th>4</th>\n",
              "      <td>LP001008</td>\n",
              "      <td>Male</td>\n",
              "      <td>No</td>\n",
              "      <td>0</td>\n",
              "      <td>Graduate</td>\n",
              "      <td>No</td>\n",
              "      <td>6000</td>\n",
              "      <td>0.0</td>\n",
              "      <td>141.0</td>\n",
              "      <td>360.0</td>\n",
              "      <td>1.0</td>\n",
              "      <td>Urban</td>\n",
              "      <td>Y</td>\n",
              "    </tr>\n",
              "    <tr>\n",
              "      <th>5</th>\n",
              "      <td>LP001011</td>\n",
              "      <td>Male</td>\n",
              "      <td>Yes</td>\n",
              "      <td>2</td>\n",
              "      <td>Graduate</td>\n",
              "      <td>Yes</td>\n",
              "      <td>5417</td>\n",
              "      <td>4196.0</td>\n",
              "      <td>267.0</td>\n",
              "      <td>360.0</td>\n",
              "      <td>1.0</td>\n",
              "      <td>Urban</td>\n",
              "      <td>Y</td>\n",
              "    </tr>\n",
              "    <tr>\n",
              "      <th>6</th>\n",
              "      <td>LP001013</td>\n",
              "      <td>Male</td>\n",
              "      <td>Yes</td>\n",
              "      <td>0</td>\n",
              "      <td>Not Graduate</td>\n",
              "      <td>No</td>\n",
              "      <td>2333</td>\n",
              "      <td>1516.0</td>\n",
              "      <td>95.0</td>\n",
              "      <td>360.0</td>\n",
              "      <td>1.0</td>\n",
              "      <td>Urban</td>\n",
              "      <td>Y</td>\n",
              "    </tr>\n",
              "    <tr>\n",
              "      <th>7</th>\n",
              "      <td>LP001014</td>\n",
              "      <td>Male</td>\n",
              "      <td>Yes</td>\n",
              "      <td>3+</td>\n",
              "      <td>Graduate</td>\n",
              "      <td>No</td>\n",
              "      <td>3036</td>\n",
              "      <td>2504.0</td>\n",
              "      <td>158.0</td>\n",
              "      <td>360.0</td>\n",
              "      <td>0.0</td>\n",
              "      <td>Semiurban</td>\n",
              "      <td>N</td>\n",
              "    </tr>\n",
              "    <tr>\n",
              "      <th>8</th>\n",
              "      <td>LP001018</td>\n",
              "      <td>Male</td>\n",
              "      <td>Yes</td>\n",
              "      <td>2</td>\n",
              "      <td>Graduate</td>\n",
              "      <td>No</td>\n",
              "      <td>4006</td>\n",
              "      <td>1526.0</td>\n",
              "      <td>168.0</td>\n",
              "      <td>360.0</td>\n",
              "      <td>1.0</td>\n",
              "      <td>Urban</td>\n",
              "      <td>Y</td>\n",
              "    </tr>\n",
              "    <tr>\n",
              "      <th>9</th>\n",
              "      <td>LP001020</td>\n",
              "      <td>Male</td>\n",
              "      <td>Yes</td>\n",
              "      <td>1</td>\n",
              "      <td>Graduate</td>\n",
              "      <td>No</td>\n",
              "      <td>12841</td>\n",
              "      <td>10968.0</td>\n",
              "      <td>349.0</td>\n",
              "      <td>360.0</td>\n",
              "      <td>1.0</td>\n",
              "      <td>Semiurban</td>\n",
              "      <td>N</td>\n",
              "    </tr>\n",
              "  </tbody>\n",
              "</table>\n",
              "</div>"
            ],
            "text/plain": [
              "    Loan_ID Gender Married  ... Credit_History Property_Area Loan_Status\n",
              "0  LP001002   Male      No  ...            1.0         Urban           Y\n",
              "1  LP001003   Male     Yes  ...            1.0         Rural           N\n",
              "2  LP001005   Male     Yes  ...            1.0         Urban           Y\n",
              "3  LP001006   Male     Yes  ...            1.0         Urban           Y\n",
              "4  LP001008   Male      No  ...            1.0         Urban           Y\n",
              "5  LP001011   Male     Yes  ...            1.0         Urban           Y\n",
              "6  LP001013   Male     Yes  ...            1.0         Urban           Y\n",
              "7  LP001014   Male     Yes  ...            0.0     Semiurban           N\n",
              "8  LP001018   Male     Yes  ...            1.0         Urban           Y\n",
              "9  LP001020   Male     Yes  ...            1.0     Semiurban           N\n",
              "\n",
              "[10 rows x 13 columns]"
            ]
          },
          "metadata": {},
          "execution_count": 19
        }
      ]
    },
    {
      "cell_type": "markdown",
      "metadata": {
        "id": "XYBdBJL-HSCg"
      },
      "source": [
        "##결측치 확인/제거"
      ]
    },
    {
      "cell_type": "code",
      "metadata": {
        "colab": {
          "base_uri": "https://localhost:8080/"
        },
        "id": "kJde6woFrjC6",
        "outputId": "f15de7b3-4ca7-48e7-d8f5-3086445d984d"
      },
      "source": [
        "#결측치 몇개인지 확인\n",
        "loandata.isnull().sum()"
      ],
      "execution_count": 20,
      "outputs": [
        {
          "output_type": "execute_result",
          "data": {
            "text/plain": [
              "Loan_ID               0\n",
              "Gender               13\n",
              "Married               3\n",
              "Dependents           15\n",
              "Education             0\n",
              "Self_Employed        32\n",
              "ApplicantIncome       0\n",
              "CoapplicantIncome     0\n",
              "LoanAmount           22\n",
              "Loan_Amount_Term     14\n",
              "Credit_History       50\n",
              "Property_Area         0\n",
              "Loan_Status           0\n",
              "dtype: int64"
            ]
          },
          "metadata": {},
          "execution_count": 20
        }
      ]
    },
    {
      "cell_type": "code",
      "metadata": {
        "id": "SniqVmfBrzQk"
      },
      "source": [
        "#결측치가 뭔지에 따라 삭제하거나 임의의 값을 넣어서 진행\n",
        "#여기에서는 전체 삭제\n",
        "loandata.dropna(inplace=True) #기존 데이터에있는 결측치있는 sample은 data에서 삭제하는 방법\n",
        "\n",
        "#loandata = loandata.dropna(inplace=False) >>결측치 없는 버전 새롭게 만들어주는 방법"
      ],
      "execution_count": 21,
      "outputs": []
    },
    {
      "cell_type": "markdown",
      "metadata": {
        "id": "gPt0QZJntpFd"
      },
      "source": [
        "inplace = True/False\n",
        ">>True: dropna가 적용된 DataFrame자체에 dropna적용\n",
        "\n",
        ">>False: dropna가 적용된 DataFrame은 그대로 두고,\n",
        "        dropna를 적용한 새로운 DataFrame을 return"
      ]
    },
    {
      "cell_type": "code",
      "metadata": {
        "colab": {
          "base_uri": "https://localhost:8080/"
        },
        "id": "FeOuTQP-sZvT",
        "outputId": "136451fd-c386-4917-d811-a5d55a767a70"
      },
      "source": [
        "#결측치 있는지 없는지 재확인\n",
        "loandata.isnull().sum()"
      ],
      "execution_count": 22,
      "outputs": [
        {
          "output_type": "execute_result",
          "data": {
            "text/plain": [
              "Loan_ID              0\n",
              "Gender               0\n",
              "Married              0\n",
              "Dependents           0\n",
              "Education            0\n",
              "Self_Employed        0\n",
              "ApplicantIncome      0\n",
              "CoapplicantIncome    0\n",
              "LoanAmount           0\n",
              "Loan_Amount_Term     0\n",
              "Credit_History       0\n",
              "Property_Area        0\n",
              "Loan_Status          0\n",
              "dtype: int64"
            ]
          },
          "metadata": {},
          "execution_count": 22
        }
      ]
    },
    {
      "cell_type": "code",
      "metadata": {
        "colab": {
          "base_uri": "https://localhost:8080/",
          "height": 240
        },
        "id": "3G_CDswWsj7h",
        "outputId": "36647ec9-78ba-44dd-e991-88e7c0d9e7c5"
      },
      "source": [
        "loandata.head()\n",
        "#결측치가 있는 sample인 0번 sample이 빠짐"
      ],
      "execution_count": 23,
      "outputs": [
        {
          "output_type": "execute_result",
          "data": {
            "text/html": [
              "<div>\n",
              "<style scoped>\n",
              "    .dataframe tbody tr th:only-of-type {\n",
              "        vertical-align: middle;\n",
              "    }\n",
              "\n",
              "    .dataframe tbody tr th {\n",
              "        vertical-align: top;\n",
              "    }\n",
              "\n",
              "    .dataframe thead th {\n",
              "        text-align: right;\n",
              "    }\n",
              "</style>\n",
              "<table border=\"1\" class=\"dataframe\">\n",
              "  <thead>\n",
              "    <tr style=\"text-align: right;\">\n",
              "      <th></th>\n",
              "      <th>Loan_ID</th>\n",
              "      <th>Gender</th>\n",
              "      <th>Married</th>\n",
              "      <th>Dependents</th>\n",
              "      <th>Education</th>\n",
              "      <th>Self_Employed</th>\n",
              "      <th>ApplicantIncome</th>\n",
              "      <th>CoapplicantIncome</th>\n",
              "      <th>LoanAmount</th>\n",
              "      <th>Loan_Amount_Term</th>\n",
              "      <th>Credit_History</th>\n",
              "      <th>Property_Area</th>\n",
              "      <th>Loan_Status</th>\n",
              "    </tr>\n",
              "  </thead>\n",
              "  <tbody>\n",
              "    <tr>\n",
              "      <th>1</th>\n",
              "      <td>LP001003</td>\n",
              "      <td>Male</td>\n",
              "      <td>Yes</td>\n",
              "      <td>1</td>\n",
              "      <td>Graduate</td>\n",
              "      <td>No</td>\n",
              "      <td>4583</td>\n",
              "      <td>1508.0</td>\n",
              "      <td>128.0</td>\n",
              "      <td>360.0</td>\n",
              "      <td>1.0</td>\n",
              "      <td>Rural</td>\n",
              "      <td>N</td>\n",
              "    </tr>\n",
              "    <tr>\n",
              "      <th>2</th>\n",
              "      <td>LP001005</td>\n",
              "      <td>Male</td>\n",
              "      <td>Yes</td>\n",
              "      <td>0</td>\n",
              "      <td>Graduate</td>\n",
              "      <td>Yes</td>\n",
              "      <td>3000</td>\n",
              "      <td>0.0</td>\n",
              "      <td>66.0</td>\n",
              "      <td>360.0</td>\n",
              "      <td>1.0</td>\n",
              "      <td>Urban</td>\n",
              "      <td>Y</td>\n",
              "    </tr>\n",
              "    <tr>\n",
              "      <th>3</th>\n",
              "      <td>LP001006</td>\n",
              "      <td>Male</td>\n",
              "      <td>Yes</td>\n",
              "      <td>0</td>\n",
              "      <td>Not Graduate</td>\n",
              "      <td>No</td>\n",
              "      <td>2583</td>\n",
              "      <td>2358.0</td>\n",
              "      <td>120.0</td>\n",
              "      <td>360.0</td>\n",
              "      <td>1.0</td>\n",
              "      <td>Urban</td>\n",
              "      <td>Y</td>\n",
              "    </tr>\n",
              "    <tr>\n",
              "      <th>4</th>\n",
              "      <td>LP001008</td>\n",
              "      <td>Male</td>\n",
              "      <td>No</td>\n",
              "      <td>0</td>\n",
              "      <td>Graduate</td>\n",
              "      <td>No</td>\n",
              "      <td>6000</td>\n",
              "      <td>0.0</td>\n",
              "      <td>141.0</td>\n",
              "      <td>360.0</td>\n",
              "      <td>1.0</td>\n",
              "      <td>Urban</td>\n",
              "      <td>Y</td>\n",
              "    </tr>\n",
              "    <tr>\n",
              "      <th>5</th>\n",
              "      <td>LP001011</td>\n",
              "      <td>Male</td>\n",
              "      <td>Yes</td>\n",
              "      <td>2</td>\n",
              "      <td>Graduate</td>\n",
              "      <td>Yes</td>\n",
              "      <td>5417</td>\n",
              "      <td>4196.0</td>\n",
              "      <td>267.0</td>\n",
              "      <td>360.0</td>\n",
              "      <td>1.0</td>\n",
              "      <td>Urban</td>\n",
              "      <td>Y</td>\n",
              "    </tr>\n",
              "  </tbody>\n",
              "</table>\n",
              "</div>"
            ],
            "text/plain": [
              "    Loan_ID Gender Married  ... Credit_History Property_Area Loan_Status\n",
              "1  LP001003   Male     Yes  ...            1.0         Rural           N\n",
              "2  LP001005   Male     Yes  ...            1.0         Urban           Y\n",
              "3  LP001006   Male     Yes  ...            1.0         Urban           Y\n",
              "4  LP001008   Male      No  ...            1.0         Urban           Y\n",
              "5  LP001011   Male     Yes  ...            1.0         Urban           Y\n",
              "\n",
              "[5 rows x 13 columns]"
            ]
          },
          "metadata": {},
          "execution_count": 23
        }
      ]
    },
    {
      "cell_type": "markdown",
      "metadata": {
        "id": "TjoPsVu5HWSd"
      },
      "source": [
        "## Feature 숫자로 변형"
      ]
    },
    {
      "cell_type": "code",
      "metadata": {
        "id": "NImCpLCes7KN"
      },
      "source": [
        "loandata = loandata[[\"Gender\", \"Married\", \"Education\", \"Self_Employed\", \"Credit_History\", \"Loan_Status\"]]\n",
        "\n",
        "loandata['Gender']=loandata['Gender'].replace(to_replace='Male', value='1')\n",
        "loandata['Gender']=loandata['Gender'].replace(to_replace='Female', value='0')\n",
        "\n",
        "loandata[\"Married\"]=loandata[\"Married\"].replace(to_replace=\"Yes\", value='1')\n",
        "loandata[\"Married\"]=loandata[\"Married\"].replace(to_replace=\"No\", value='0')\n",
        "\n",
        "loandata[\"Education\"]=loandata[\"Education\"].replace(to_replace=\"Graduate\", value='1')\n",
        "loandata[\"Education\"]=loandata[\"Education\"].replace(to_replace=\"Not Graduate\", value='0')\n",
        "\n",
        "loandata[\"Self_Employed\"]=loandata[\"Self_Employed\"].replace(to_replace=\"Yes\", value='1')\n",
        "loandata[\"Self_Employed\"]=loandata[\"Self_Employed\"].replace(to_replace=\"No\", value='0')\n",
        "\n",
        "#Credit_History는 원래가 수치여서 바꿀필요 없음\n",
        "#Loan_status는 Label이기 때문에 안바꿈\n",
        "#꼭 0,1로 바꿀 필요 없음 여튼 다른 것과 구분만 되게 서로 다른 숫자로 설정해주기만 하면됨\n",
        "\n",
        "#만약 'ApplicationIncome'을 분류조정하고 싶으면 4000대, 3000대 이런식으로 해서 4,3,2,1 이렇게 설정해주면 좋다."
      ],
      "execution_count": 55,
      "outputs": []
    },
    {
      "cell_type": "code",
      "metadata": {
        "colab": {
          "base_uri": "https://localhost:8080/",
          "height": 204
        },
        "id": "faiz0VPoJJMb",
        "outputId": "d996d846-5ffc-4ffc-98c5-77f3224b045d"
      },
      "source": [
        "loandata.head()"
      ],
      "execution_count": 56,
      "outputs": [
        {
          "output_type": "execute_result",
          "data": {
            "text/html": [
              "<div>\n",
              "<style scoped>\n",
              "    .dataframe tbody tr th:only-of-type {\n",
              "        vertical-align: middle;\n",
              "    }\n",
              "\n",
              "    .dataframe tbody tr th {\n",
              "        vertical-align: top;\n",
              "    }\n",
              "\n",
              "    .dataframe thead th {\n",
              "        text-align: right;\n",
              "    }\n",
              "</style>\n",
              "<table border=\"1\" class=\"dataframe\">\n",
              "  <thead>\n",
              "    <tr style=\"text-align: right;\">\n",
              "      <th></th>\n",
              "      <th>Gender</th>\n",
              "      <th>Married</th>\n",
              "      <th>Education</th>\n",
              "      <th>Self_Employed</th>\n",
              "      <th>Credit_History</th>\n",
              "      <th>Loan_Status</th>\n",
              "    </tr>\n",
              "  </thead>\n",
              "  <tbody>\n",
              "    <tr>\n",
              "      <th>1</th>\n",
              "      <td>1</td>\n",
              "      <td>1</td>\n",
              "      <td>1</td>\n",
              "      <td>0</td>\n",
              "      <td>1.0</td>\n",
              "      <td>N</td>\n",
              "    </tr>\n",
              "    <tr>\n",
              "      <th>2</th>\n",
              "      <td>1</td>\n",
              "      <td>1</td>\n",
              "      <td>1</td>\n",
              "      <td>1</td>\n",
              "      <td>1.0</td>\n",
              "      <td>Y</td>\n",
              "    </tr>\n",
              "    <tr>\n",
              "      <th>3</th>\n",
              "      <td>1</td>\n",
              "      <td>1</td>\n",
              "      <td>0</td>\n",
              "      <td>0</td>\n",
              "      <td>1.0</td>\n",
              "      <td>Y</td>\n",
              "    </tr>\n",
              "    <tr>\n",
              "      <th>4</th>\n",
              "      <td>1</td>\n",
              "      <td>0</td>\n",
              "      <td>1</td>\n",
              "      <td>0</td>\n",
              "      <td>1.0</td>\n",
              "      <td>Y</td>\n",
              "    </tr>\n",
              "    <tr>\n",
              "      <th>5</th>\n",
              "      <td>1</td>\n",
              "      <td>1</td>\n",
              "      <td>1</td>\n",
              "      <td>1</td>\n",
              "      <td>1.0</td>\n",
              "      <td>Y</td>\n",
              "    </tr>\n",
              "  </tbody>\n",
              "</table>\n",
              "</div>"
            ],
            "text/plain": [
              "  Gender Married Education Self_Employed  Credit_History Loan_Status\n",
              "1      1       1         1             0             1.0           N\n",
              "2      1       1         1             1             1.0           Y\n",
              "3      1       1         0             0             1.0           Y\n",
              "4      1       0         1             0             1.0           Y\n",
              "5      1       1         1             1             1.0           Y"
            ]
          },
          "metadata": {},
          "execution_count": 56
        }
      ]
    },
    {
      "cell_type": "code",
      "metadata": {
        "id": "MxXjYWIrJNnV"
      },
      "source": [
        "#loandata.loc는 특정 값을 변화시키고 싶을 때 사용\n",
        "#(변화시키고 싶은 값을 모두 입력해서 일일이 변경)\n",
        "# https://azanewta.tistory.com/34"
      ],
      "execution_count": 58,
      "outputs": []
    },
    {
      "cell_type": "markdown",
      "metadata": {
        "id": "9zRPjT6vJrbB"
      },
      "source": [
        "# 데이터 학습시키기"
      ]
    },
    {
      "cell_type": "code",
      "metadata": {
        "id": "Qg5nl_wLJuiX"
      },
      "source": [
        "from sklearn.model_selection import train_test_split\n",
        "\n",
        "x = loandata.drop(columns=['Loan_Status']) #Loan_Status만 빼고(drop) 나머지 데이터 전부 x\n",
        "y = loandata.Loan_Status\n",
        "\n",
        "x_train, x_test, y_train, y_test = train_test_split(x,y,test_size=0.3, random_state=42)"
      ],
      "execution_count": 32,
      "outputs": []
    },
    {
      "cell_type": "code",
      "metadata": {
        "colab": {
          "base_uri": "https://localhost:8080/"
        },
        "id": "SOkFbkZHJ5Gn",
        "outputId": "d1e4c064-882b-4aae-ded7-0b1f42252ada"
      },
      "source": [
        "from sklearn.tree import DecisionTreeClassifier\n",
        "from sklearn import tree\n",
        "\n",
        "clf = tree.DecisionTreeClassifier(max_depth=3)\n",
        "clf.fit(x_train,y_train)"
      ],
      "execution_count": 33,
      "outputs": [
        {
          "output_type": "execute_result",
          "data": {
            "text/plain": [
              "DecisionTreeClassifier(ccp_alpha=0.0, class_weight=None, criterion='gini',\n",
              "                       max_depth=3, max_features=None, max_leaf_nodes=None,\n",
              "                       min_impurity_decrease=0.0, min_impurity_split=None,\n",
              "                       min_samples_leaf=1, min_samples_split=2,\n",
              "                       min_weight_fraction_leaf=0.0, presort='deprecated',\n",
              "                       random_state=None, splitter='best')"
            ]
          },
          "metadata": {},
          "execution_count": 33
        }
      ]
    },
    {
      "cell_type": "code",
      "metadata": {
        "colab": {
          "base_uri": "https://localhost:8080/",
          "height": 597
        },
        "id": "PJ64aVdJMOWK",
        "outputId": "5576a908-48da-41b9-930d-28fd38e7b5a8"
      },
      "source": [
        "import graphviz #그래프 시각화 소프트웨어\n",
        "dot_data = tree.export_graphviz(clf, \n",
        "                                out_file=None, #파일변환>No\n",
        "                                feature_names=[\"Gender\", \"Married\", \"Education\", \"Self_Employed\", \"Credit_History\"],\n",
        "                                class_names=['Yes','No'],\n",
        "                                filled=True, #색상넣을지\n",
        "                                rounded=True, #반올림할지\n",
        "                                special_characters=True) #특수문자 넣을지\n",
        "graph = graphviz.Source(dot_data)\n",
        "graph.render('Gini') #지니계수 사용\n",
        "graph"
      ],
      "execution_count": 39,
      "outputs": [
        {
          "output_type": "execute_result",
          "data": {
            "text/plain": [
              "<graphviz.files.Source at 0x7f1d90eb96d0>"
            ],
            "image/svg+xml": "<?xml version=\"1.0\" encoding=\"UTF-8\" standalone=\"no\"?>\n<!DOCTYPE svg PUBLIC \"-//W3C//DTD SVG 1.1//EN\"\n \"http://www.w3.org/Graphics/SVG/1.1/DTD/svg11.dtd\">\n<!-- Generated by graphviz version 2.40.1 (20161225.0304)\n -->\n<!-- Title: Tree Pages: 1 -->\n<svg width=\"777pt\" height=\"433pt\"\n viewBox=\"0.00 0.00 777.00 433.00\" xmlns=\"http://www.w3.org/2000/svg\" xmlns:xlink=\"http://www.w3.org/1999/xlink\">\n<g id=\"graph0\" class=\"graph\" transform=\"scale(1 1) rotate(0) translate(4 429)\">\n<title>Tree</title>\n<polygon fill=\"#ffffff\" stroke=\"transparent\" points=\"-4,4 -4,-429 773,-429 773,4 -4,4\"/>\n<!-- 0 -->\n<g id=\"node1\" class=\"node\">\n<title>0</title>\n<path fill=\"#92c9f1\" stroke=\"#000000\" d=\"M425.5,-425C425.5,-425 306.5,-425 306.5,-425 300.5,-425 294.5,-419 294.5,-413 294.5,-413 294.5,-354 294.5,-354 294.5,-348 300.5,-342 306.5,-342 306.5,-342 425.5,-342 425.5,-342 431.5,-342 437.5,-348 437.5,-354 437.5,-354 437.5,-413 437.5,-413 437.5,-419 431.5,-425 425.5,-425\"/>\n<text text-anchor=\"start\" x=\"302.5\" y=\"-409.8\" font-family=\"Helvetica,sans-Serif\" font-size=\"14.00\" fill=\"#000000\">Credit_History ≤ 0.5</text>\n<text text-anchor=\"start\" x=\"328\" y=\"-394.8\" font-family=\"Helvetica,sans-Serif\" font-size=\"14.00\" fill=\"#000000\">gini = 0.427</text>\n<text text-anchor=\"start\" x=\"318\" y=\"-379.8\" font-family=\"Helvetica,sans-Serif\" font-size=\"14.00\" fill=\"#000000\">samples = 336</text>\n<text text-anchor=\"start\" x=\"308\" y=\"-364.8\" font-family=\"Helvetica,sans-Serif\" font-size=\"14.00\" fill=\"#000000\">value = [104, 232]</text>\n<text text-anchor=\"start\" x=\"331.5\" y=\"-349.8\" font-family=\"Helvetica,sans-Serif\" font-size=\"14.00\" fill=\"#000000\">class = No</text>\n</g>\n<!-- 1 -->\n<g id=\"node2\" class=\"node\">\n<title>1</title>\n<path fill=\"#e99356\" stroke=\"#000000\" d=\"M352,-306C352,-306 226,-306 226,-306 220,-306 214,-300 214,-294 214,-294 214,-235 214,-235 214,-229 220,-223 226,-223 226,-223 352,-223 352,-223 358,-223 364,-229 364,-235 364,-235 364,-294 364,-294 364,-300 358,-306 352,-306\"/>\n<text text-anchor=\"start\" x=\"222\" y=\"-290.8\" font-family=\"Helvetica,sans-Serif\" font-size=\"14.00\" fill=\"#000000\">Self_Employed ≤ 0.5</text>\n<text text-anchor=\"start\" x=\"251\" y=\"-275.8\" font-family=\"Helvetica,sans-Serif\" font-size=\"14.00\" fill=\"#000000\">gini = 0.222</text>\n<text text-anchor=\"start\" x=\"245\" y=\"-260.8\" font-family=\"Helvetica,sans-Serif\" font-size=\"14.00\" fill=\"#000000\">samples = 55</text>\n<text text-anchor=\"start\" x=\"243.5\" y=\"-245.8\" font-family=\"Helvetica,sans-Serif\" font-size=\"14.00\" fill=\"#000000\">value = [48, 7]</text>\n<text text-anchor=\"start\" x=\"252\" y=\"-230.8\" font-family=\"Helvetica,sans-Serif\" font-size=\"14.00\" fill=\"#000000\">class = Yes</text>\n</g>\n<!-- 0&#45;&gt;1 -->\n<g id=\"edge1\" class=\"edge\">\n<title>0&#45;&gt;1</title>\n<path fill=\"none\" stroke=\"#000000\" d=\"M339.0691,-341.8796C333.4163,-333.1434 327.3967,-323.8404 321.5634,-314.8253\"/>\n<polygon fill=\"#000000\" stroke=\"#000000\" points=\"324.4169,-312.7924 316.0458,-306.2981 318.5399,-316.5952 324.4169,-312.7924\"/>\n<text text-anchor=\"middle\" x=\"310.8076\" y=\"-327.0431\" font-family=\"Helvetica,sans-Serif\" font-size=\"14.00\" fill=\"#000000\">True</text>\n</g>\n<!-- 6 -->\n<g id=\"node7\" class=\"node\">\n<title>6</title>\n<path fill=\"#6ab5eb\" stroke=\"#000000\" d=\"M494,-306C494,-306 394,-306 394,-306 388,-306 382,-300 382,-294 382,-294 382,-235 382,-235 382,-229 388,-223 394,-223 394,-223 494,-223 494,-223 500,-223 506,-229 506,-235 506,-235 506,-294 506,-294 506,-300 500,-306 494,-306\"/>\n<text text-anchor=\"start\" x=\"401.5\" y=\"-290.8\" font-family=\"Helvetica,sans-Serif\" font-size=\"14.00\" fill=\"#000000\">Married ≤ 0.5</text>\n<text text-anchor=\"start\" x=\"406\" y=\"-275.8\" font-family=\"Helvetica,sans-Serif\" font-size=\"14.00\" fill=\"#000000\">gini = 0.319</text>\n<text text-anchor=\"start\" x=\"396\" y=\"-260.8\" font-family=\"Helvetica,sans-Serif\" font-size=\"14.00\" fill=\"#000000\">samples = 281</text>\n<text text-anchor=\"start\" x=\"390\" y=\"-245.8\" font-family=\"Helvetica,sans-Serif\" font-size=\"14.00\" fill=\"#000000\">value = [56, 225]</text>\n<text text-anchor=\"start\" x=\"409.5\" y=\"-230.8\" font-family=\"Helvetica,sans-Serif\" font-size=\"14.00\" fill=\"#000000\">class = No</text>\n</g>\n<!-- 0&#45;&gt;6 -->\n<g id=\"edge6\" class=\"edge\">\n<title>0&#45;&gt;6</title>\n<path fill=\"none\" stroke=\"#000000\" d=\"M393.2806,-341.8796C399.0068,-333.1434 405.1046,-323.8404 411.0137,-314.8253\"/>\n<polygon fill=\"#000000\" stroke=\"#000000\" points=\"414.0482,-316.5803 416.6029,-306.2981 408.1937,-312.7429 414.0482,-316.5803\"/>\n<text text-anchor=\"middle\" x=\"421.6968\" y=\"-327.0736\" font-family=\"Helvetica,sans-Serif\" font-size=\"14.00\" fill=\"#000000\">False</text>\n</g>\n<!-- 2 -->\n<g id=\"node3\" class=\"node\">\n<title>2</title>\n<path fill=\"#ea995e\" stroke=\"#000000\" d=\"M212.5,-187C212.5,-187 119.5,-187 119.5,-187 113.5,-187 107.5,-181 107.5,-175 107.5,-175 107.5,-116 107.5,-116 107.5,-110 113.5,-104 119.5,-104 119.5,-104 212.5,-104 212.5,-104 218.5,-104 224.5,-110 224.5,-116 224.5,-116 224.5,-175 224.5,-175 224.5,-181 218.5,-187 212.5,-187\"/>\n<text text-anchor=\"start\" x=\"115.5\" y=\"-171.8\" font-family=\"Helvetica,sans-Serif\" font-size=\"14.00\" fill=\"#000000\">Education ≤ 0.5</text>\n<text text-anchor=\"start\" x=\"128\" y=\"-156.8\" font-family=\"Helvetica,sans-Serif\" font-size=\"14.00\" fill=\"#000000\">gini = 0.268</text>\n<text text-anchor=\"start\" x=\"122\" y=\"-141.8\" font-family=\"Helvetica,sans-Serif\" font-size=\"14.00\" fill=\"#000000\">samples = 44</text>\n<text text-anchor=\"start\" x=\"120.5\" y=\"-126.8\" font-family=\"Helvetica,sans-Serif\" font-size=\"14.00\" fill=\"#000000\">value = [37, 7]</text>\n<text text-anchor=\"start\" x=\"129\" y=\"-111.8\" font-family=\"Helvetica,sans-Serif\" font-size=\"14.00\" fill=\"#000000\">class = Yes</text>\n</g>\n<!-- 1&#45;&gt;2 -->\n<g id=\"edge2\" class=\"edge\">\n<title>1&#45;&gt;2</title>\n<path fill=\"none\" stroke=\"#000000\" d=\"M245.9806,-222.8796C236.4853,-213.6931 226.3422,-203.8798 216.5785,-194.4336\"/>\n<polygon fill=\"#000000\" stroke=\"#000000\" points=\"218.8237,-191.7359 209.203,-187.2981 213.9564,-196.7668 218.8237,-191.7359\"/>\n</g>\n<!-- 5 -->\n<g id=\"node6\" class=\"node\">\n<title>5</title>\n<path fill=\"#e58139\" stroke=\"#000000\" d=\"M337.5,-179.5C337.5,-179.5 254.5,-179.5 254.5,-179.5 248.5,-179.5 242.5,-173.5 242.5,-167.5 242.5,-167.5 242.5,-123.5 242.5,-123.5 242.5,-117.5 248.5,-111.5 254.5,-111.5 254.5,-111.5 337.5,-111.5 337.5,-111.5 343.5,-111.5 349.5,-117.5 349.5,-123.5 349.5,-123.5 349.5,-167.5 349.5,-167.5 349.5,-173.5 343.5,-179.5 337.5,-179.5\"/>\n<text text-anchor=\"start\" x=\"266.5\" y=\"-164.3\" font-family=\"Helvetica,sans-Serif\" font-size=\"14.00\" fill=\"#000000\">gini = 0.0</text>\n<text text-anchor=\"start\" x=\"252\" y=\"-149.3\" font-family=\"Helvetica,sans-Serif\" font-size=\"14.00\" fill=\"#000000\">samples = 11</text>\n<text text-anchor=\"start\" x=\"250.5\" y=\"-134.3\" font-family=\"Helvetica,sans-Serif\" font-size=\"14.00\" fill=\"#000000\">value = [11, 0]</text>\n<text text-anchor=\"start\" x=\"259\" y=\"-119.3\" font-family=\"Helvetica,sans-Serif\" font-size=\"14.00\" fill=\"#000000\">class = Yes</text>\n</g>\n<!-- 1&#45;&gt;5 -->\n<g id=\"edge5\" class=\"edge\">\n<title>1&#45;&gt;5</title>\n<path fill=\"none\" stroke=\"#000000\" d=\"M291.4483,-222.8796C292.0757,-212.2134 292.7528,-200.7021 293.3881,-189.9015\"/>\n<polygon fill=\"#000000\" stroke=\"#000000\" points=\"296.8881,-190.0032 293.9815,-179.8149 289.9002,-189.5921 296.8881,-190.0032\"/>\n</g>\n<!-- 3 -->\n<g id=\"node4\" class=\"node\">\n<title>3</title>\n<path fill=\"#e88f4f\" stroke=\"#000000\" d=\"M92,-68C92,-68 12,-68 12,-68 6,-68 0,-62 0,-56 0,-56 0,-12 0,-12 0,-6 6,0 12,0 12,0 92,0 92,0 98,0 104,-6 104,-12 104,-12 104,-56 104,-56 104,-62 98,-68 92,-68\"/>\n<text text-anchor=\"start\" x=\"18.5\" y=\"-52.8\" font-family=\"Helvetica,sans-Serif\" font-size=\"14.00\" fill=\"#000000\">gini = 0.18</text>\n<text text-anchor=\"start\" x=\"8\" y=\"-37.8\" font-family=\"Helvetica,sans-Serif\" font-size=\"14.00\" fill=\"#000000\">samples = 10</text>\n<text text-anchor=\"start\" x=\"10.5\" y=\"-22.8\" font-family=\"Helvetica,sans-Serif\" font-size=\"14.00\" fill=\"#000000\">value = [9, 1]</text>\n<text text-anchor=\"start\" x=\"15\" y=\"-7.8\" font-family=\"Helvetica,sans-Serif\" font-size=\"14.00\" fill=\"#000000\">class = Yes</text>\n</g>\n<!-- 2&#45;&gt;3 -->\n<g id=\"edge3\" class=\"edge\">\n<title>2&#45;&gt;3</title>\n<path fill=\"none\" stroke=\"#000000\" d=\"M123.5506,-103.9815C113.9659,-94.607 103.793,-84.6572 94.2179,-75.2921\"/>\n<polygon fill=\"#000000\" stroke=\"#000000\" points=\"96.6283,-72.7538 87.0319,-68.2637 91.7337,-77.7581 96.6283,-72.7538\"/>\n</g>\n<!-- 4 -->\n<g id=\"node5\" class=\"node\">\n<title>4</title>\n<path fill=\"#eb9c63\" stroke=\"#000000\" d=\"M217.5,-68C217.5,-68 134.5,-68 134.5,-68 128.5,-68 122.5,-62 122.5,-56 122.5,-56 122.5,-12 122.5,-12 122.5,-6 128.5,0 134.5,0 134.5,0 217.5,0 217.5,0 223.5,0 229.5,-6 229.5,-12 229.5,-12 229.5,-56 229.5,-56 229.5,-62 223.5,-68 217.5,-68\"/>\n<text text-anchor=\"start\" x=\"138\" y=\"-52.8\" font-family=\"Helvetica,sans-Serif\" font-size=\"14.00\" fill=\"#000000\">gini = 0.291</text>\n<text text-anchor=\"start\" x=\"132\" y=\"-37.8\" font-family=\"Helvetica,sans-Serif\" font-size=\"14.00\" fill=\"#000000\">samples = 34</text>\n<text text-anchor=\"start\" x=\"130.5\" y=\"-22.8\" font-family=\"Helvetica,sans-Serif\" font-size=\"14.00\" fill=\"#000000\">value = [28, 6]</text>\n<text text-anchor=\"start\" x=\"139\" y=\"-7.8\" font-family=\"Helvetica,sans-Serif\" font-size=\"14.00\" fill=\"#000000\">class = Yes</text>\n</g>\n<!-- 2&#45;&gt;4 -->\n<g id=\"edge4\" class=\"edge\">\n<title>2&#45;&gt;4</title>\n<path fill=\"none\" stroke=\"#000000\" d=\"M169.7236,-103.9815C170.4737,-95.618 171.2649,-86.7965 172.0232,-78.3409\"/>\n<polygon fill=\"#000000\" stroke=\"#000000\" points=\"175.5197,-78.5364 172.927,-68.2637 168.5477,-77.911 175.5197,-78.5364\"/>\n</g>\n<!-- 7 -->\n<g id=\"node8\" class=\"node\">\n<title>7</title>\n<path fill=\"#7cbeee\" stroke=\"#000000\" d=\"M484,-187C484,-187 392,-187 392,-187 386,-187 380,-181 380,-175 380,-175 380,-116 380,-116 380,-110 386,-104 392,-104 392,-104 484,-104 484,-104 490,-104 496,-110 496,-116 496,-116 496,-175 496,-175 496,-181 490,-187 484,-187\"/>\n<text text-anchor=\"start\" x=\"395.5\" y=\"-171.8\" font-family=\"Helvetica,sans-Serif\" font-size=\"14.00\" fill=\"#000000\">Gender ≤ 0.5</text>\n<text text-anchor=\"start\" x=\"400\" y=\"-156.8\" font-family=\"Helvetica,sans-Serif\" font-size=\"14.00\" fill=\"#000000\">gini = 0.377</text>\n<text text-anchor=\"start\" x=\"390\" y=\"-141.8\" font-family=\"Helvetica,sans-Serif\" font-size=\"14.00\" fill=\"#000000\">samples = 103</text>\n<text text-anchor=\"start\" x=\"388\" y=\"-126.8\" font-family=\"Helvetica,sans-Serif\" font-size=\"14.00\" fill=\"#000000\">value = [26, 77]</text>\n<text text-anchor=\"start\" x=\"403.5\" y=\"-111.8\" font-family=\"Helvetica,sans-Serif\" font-size=\"14.00\" fill=\"#000000\">class = No</text>\n</g>\n<!-- 6&#45;&gt;7 -->\n<g id=\"edge7\" class=\"edge\">\n<title>6&#45;&gt;7</title>\n<path fill=\"none\" stroke=\"#000000\" d=\"M441.9015,-222.8796C441.4883,-214.6838 441.0499,-205.9891 440.6219,-197.5013\"/>\n<polygon fill=\"#000000\" stroke=\"#000000\" points=\"444.1067,-197.1091 440.1075,-187.2981 437.1156,-197.4617 444.1067,-197.1091\"/>\n</g>\n<!-- 10 -->\n<g id=\"node11\" class=\"node\">\n<title>10</title>\n<path fill=\"#61b1ea\" stroke=\"#000000\" d=\"M626,-187C626,-187 526,-187 526,-187 520,-187 514,-181 514,-175 514,-175 514,-116 514,-116 514,-110 520,-104 526,-104 526,-104 626,-104 626,-104 632,-104 638,-110 638,-116 638,-116 638,-175 638,-175 638,-181 632,-187 626,-187\"/>\n<text text-anchor=\"start\" x=\"525.5\" y=\"-171.8\" font-family=\"Helvetica,sans-Serif\" font-size=\"14.00\" fill=\"#000000\">Education ≤ 0.5</text>\n<text text-anchor=\"start\" x=\"542.5\" y=\"-156.8\" font-family=\"Helvetica,sans-Serif\" font-size=\"14.00\" fill=\"#000000\">gini = 0.28</text>\n<text text-anchor=\"start\" x=\"528\" y=\"-141.8\" font-family=\"Helvetica,sans-Serif\" font-size=\"14.00\" fill=\"#000000\">samples = 178</text>\n<text text-anchor=\"start\" x=\"522\" y=\"-126.8\" font-family=\"Helvetica,sans-Serif\" font-size=\"14.00\" fill=\"#000000\">value = [30, 148]</text>\n<text text-anchor=\"start\" x=\"541.5\" y=\"-111.8\" font-family=\"Helvetica,sans-Serif\" font-size=\"14.00\" fill=\"#000000\">class = No</text>\n</g>\n<!-- 6&#45;&gt;10 -->\n<g id=\"edge10\" class=\"edge\">\n<title>6&#45;&gt;10</title>\n<path fill=\"none\" stroke=\"#000000\" d=\"M490.1672,-222.8796C500.4571,-213.6031 511.456,-203.6874 522.0287,-194.1559\"/>\n<polygon fill=\"#000000\" stroke=\"#000000\" points=\"524.5519,-196.5935 529.6358,-187.2981 519.8648,-191.3944 524.5519,-196.5935\"/>\n</g>\n<!-- 8 -->\n<g id=\"node9\" class=\"node\">\n<title>8</title>\n<path fill=\"#91c9f1\" stroke=\"#000000\" d=\"M354,-68C354,-68 262,-68 262,-68 256,-68 250,-62 250,-56 250,-56 250,-12 250,-12 250,-6 256,0 262,0 262,0 354,0 354,0 360,0 366,-6 366,-12 366,-12 366,-56 366,-56 366,-62 360,-68 354,-68\"/>\n<text text-anchor=\"start\" x=\"270\" y=\"-52.8\" font-family=\"Helvetica,sans-Serif\" font-size=\"14.00\" fill=\"#000000\">gini = 0.426</text>\n<text text-anchor=\"start\" x=\"264\" y=\"-37.8\" font-family=\"Helvetica,sans-Serif\" font-size=\"14.00\" fill=\"#000000\">samples = 39</text>\n<text text-anchor=\"start\" x=\"258\" y=\"-22.8\" font-family=\"Helvetica,sans-Serif\" font-size=\"14.00\" fill=\"#000000\">value = [12, 27]</text>\n<text text-anchor=\"start\" x=\"273.5\" y=\"-7.8\" font-family=\"Helvetica,sans-Serif\" font-size=\"14.00\" fill=\"#000000\">class = No</text>\n</g>\n<!-- 7&#45;&gt;8 -->\n<g id=\"edge8\" class=\"edge\">\n<title>7&#45;&gt;8</title>\n<path fill=\"none\" stroke=\"#000000\" d=\"M389.5928,-103.9815C378.5558,-94.5151 366.8347,-84.462 355.8223,-75.0168\"/>\n<polygon fill=\"#000000\" stroke=\"#000000\" points=\"357.8178,-72.1173 347.9487,-68.2637 353.2606,-77.4307 357.8178,-72.1173\"/>\n</g>\n<!-- 9 -->\n<g id=\"node10\" class=\"node\">\n<title>9</title>\n<path fill=\"#70b8ec\" stroke=\"#000000\" d=\"M488,-68C488,-68 396,-68 396,-68 390,-68 384,-62 384,-56 384,-56 384,-12 384,-12 384,-6 390,0 396,0 396,0 488,0 488,0 494,0 500,-6 500,-12 500,-12 500,-56 500,-56 500,-62 494,-68 488,-68\"/>\n<text text-anchor=\"start\" x=\"404\" y=\"-52.8\" font-family=\"Helvetica,sans-Serif\" font-size=\"14.00\" fill=\"#000000\">gini = 0.342</text>\n<text text-anchor=\"start\" x=\"398\" y=\"-37.8\" font-family=\"Helvetica,sans-Serif\" font-size=\"14.00\" fill=\"#000000\">samples = 64</text>\n<text text-anchor=\"start\" x=\"392\" y=\"-22.8\" font-family=\"Helvetica,sans-Serif\" font-size=\"14.00\" fill=\"#000000\">value = [14, 50]</text>\n<text text-anchor=\"start\" x=\"407.5\" y=\"-7.8\" font-family=\"Helvetica,sans-Serif\" font-size=\"14.00\" fill=\"#000000\">class = No</text>\n</g>\n<!-- 7&#45;&gt;9 -->\n<g id=\"edge9\" class=\"edge\">\n<title>7&#45;&gt;9</title>\n<path fill=\"none\" stroke=\"#000000\" d=\"M439.4895,-103.9815C439.7895,-95.618 440.106,-86.7965 440.4093,-78.3409\"/>\n<polygon fill=\"#000000\" stroke=\"#000000\" points=\"443.91,-78.3828 440.7708,-68.2637 436.9145,-78.1317 443.91,-78.3828\"/>\n</g>\n<!-- 11 -->\n<g id=\"node12\" class=\"node\">\n<title>11</title>\n<path fill=\"#6fb8ec\" stroke=\"#000000\" d=\"M614.5,-68C614.5,-68 531.5,-68 531.5,-68 525.5,-68 519.5,-62 519.5,-56 519.5,-56 519.5,-12 519.5,-12 519.5,-6 525.5,0 531.5,0 531.5,0 614.5,0 614.5,0 620.5,0 626.5,-6 626.5,-12 626.5,-12 626.5,-56 626.5,-56 626.5,-62 620.5,-68 614.5,-68\"/>\n<text text-anchor=\"start\" x=\"535\" y=\"-52.8\" font-family=\"Helvetica,sans-Serif\" font-size=\"14.00\" fill=\"#000000\">gini = 0.337</text>\n<text text-anchor=\"start\" x=\"529\" y=\"-37.8\" font-family=\"Helvetica,sans-Serif\" font-size=\"14.00\" fill=\"#000000\">samples = 28</text>\n<text text-anchor=\"start\" x=\"527.5\" y=\"-22.8\" font-family=\"Helvetica,sans-Serif\" font-size=\"14.00\" fill=\"#000000\">value = [6, 22]</text>\n<text text-anchor=\"start\" x=\"538.5\" y=\"-7.8\" font-family=\"Helvetica,sans-Serif\" font-size=\"14.00\" fill=\"#000000\">class = No</text>\n</g>\n<!-- 10&#45;&gt;11 -->\n<g id=\"edge11\" class=\"edge\">\n<title>10&#45;&gt;11</title>\n<path fill=\"none\" stroke=\"#000000\" d=\"M574.8829,-103.9815C574.6579,-95.618 574.4205,-86.7965 574.193,-78.3409\"/>\n<polygon fill=\"#000000\" stroke=\"#000000\" points=\"577.6897,-78.1659 573.9219,-68.2637 570.6922,-78.3542 577.6897,-78.1659\"/>\n</g>\n<!-- 12 -->\n<g id=\"node13\" class=\"node\">\n<title>12</title>\n<path fill=\"#5fb0ea\" stroke=\"#000000\" d=\"M757,-68C757,-68 657,-68 657,-68 651,-68 645,-62 645,-56 645,-56 645,-12 645,-12 645,-6 651,0 657,0 657,0 757,0 757,0 763,0 769,-6 769,-12 769,-12 769,-56 769,-56 769,-62 763,-68 757,-68\"/>\n<text text-anchor=\"start\" x=\"669\" y=\"-52.8\" font-family=\"Helvetica,sans-Serif\" font-size=\"14.00\" fill=\"#000000\">gini = 0.269</text>\n<text text-anchor=\"start\" x=\"659\" y=\"-37.8\" font-family=\"Helvetica,sans-Serif\" font-size=\"14.00\" fill=\"#000000\">samples = 150</text>\n<text text-anchor=\"start\" x=\"653\" y=\"-22.8\" font-family=\"Helvetica,sans-Serif\" font-size=\"14.00\" fill=\"#000000\">value = [24, 126]</text>\n<text text-anchor=\"start\" x=\"672.5\" y=\"-7.8\" font-family=\"Helvetica,sans-Serif\" font-size=\"14.00\" fill=\"#000000\">class = No</text>\n</g>\n<!-- 10&#45;&gt;12 -->\n<g id=\"edge12\" class=\"edge\">\n<title>10&#45;&gt;12</title>\n<path fill=\"none\" stroke=\"#000000\" d=\"M624.7796,-103.9815C635.9015,-94.5151 647.7128,-84.462 658.8099,-75.0168\"/>\n<polygon fill=\"#000000\" stroke=\"#000000\" points=\"661.3975,-77.4105 666.744,-68.2637 656.8604,-72.08 661.3975,-77.4105\"/>\n</g>\n</g>\n</svg>\n"
          },
          "metadata": {},
          "execution_count": 39
        }
      ]
    },
    {
      "cell_type": "markdown",
      "metadata": {
        "id": "rAGzb4HaQ6oC"
      },
      "source": [
        "<Entropy 계산하기>\n",
        "\n",
        "전체 data 480/ Yes 148/ No 332\n",
        "\n",
        "1\n",
        "\n",
        "\n",
        "E(s)=0.891 (Entropy구하는 공식은 pdf 참고)\n",
        "\n",
        "E(Gender=Male)=0.87 / E(Gender=Female)=0.95\n",
        "\n",
        "E(S|Gender)=0.88 (별로 안줄었음=Gender로 나누는 거 의미 없단 소리)\n",
        "\n",
        "\n",
        "이런식으로 쭉쭉 위의 그래프의 sample 개수 보면서 Entropy 계산해볼 수 있음\n"
      ]
    },
    {
      "cell_type": "markdown",
      "metadata": {
        "id": "aJp5ydyMSR6y"
      },
      "source": [
        "##Test data로 정확도 확인"
      ]
    },
    {
      "cell_type": "code",
      "metadata": {
        "colab": {
          "base_uri": "https://localhost:8080/"
        },
        "id": "PlQQvzsvSI4X",
        "outputId": "dacd21b9-e155-4a74-bf7f-d3c655b0d2cb"
      },
      "source": [
        "clf.score(x_test,y_test)"
      ],
      "execution_count": 41,
      "outputs": [
        {
          "output_type": "execute_result",
          "data": {
            "text/plain": [
              "0.7986111111111112"
            ]
          },
          "metadata": {},
          "execution_count": 41
        }
      ]
    },
    {
      "cell_type": "markdown",
      "metadata": {
        "id": "uS-gCdH7Sg-7"
      },
      "source": [
        "<모델 활용>\n",
        "\n",
        "정확도가 80이므로 돈뗴먹힐 확률이 여전히 20정도 존재\n",
        "\n",
        "20의 위험성을 제거하기 위해 상계가능한만큼 이자를 올리는 등의 조치를 취할 수 있음"
      ]
    },
    {
      "cell_type": "markdown",
      "metadata": {
        "id": "xQqbvSHnTKap"
      },
      "source": [
        "##Entropy 지수 기준으로 트리 만들기"
      ]
    },
    {
      "cell_type": "code",
      "metadata": {
        "colab": {
          "base_uri": "https://localhost:8080/"
        },
        "id": "IP15d_31SbQe",
        "outputId": "85091ed4-dba6-41f1-e258-afac870b0edd"
      },
      "source": [
        "from sklearn.tree import DecisionTreeClassifier\n",
        "from sklearn import tree\n",
        "\n",
        "clf = tree.DecisionTreeClassifier(max_depth=3,criterion='entropy') #설정안하면 gini계수로 계산함\n",
        "clf.fit(x_train,y_train)"
      ],
      "execution_count": 42,
      "outputs": [
        {
          "output_type": "execute_result",
          "data": {
            "text/plain": [
              "DecisionTreeClassifier(ccp_alpha=0.0, class_weight=None, criterion='entropy',\n",
              "                       max_depth=3, max_features=None, max_leaf_nodes=None,\n",
              "                       min_impurity_decrease=0.0, min_impurity_split=None,\n",
              "                       min_samples_leaf=1, min_samples_split=2,\n",
              "                       min_weight_fraction_leaf=0.0, presort='deprecated',\n",
              "                       random_state=None, splitter='best')"
            ]
          },
          "metadata": {},
          "execution_count": 42
        }
      ]
    },
    {
      "cell_type": "code",
      "metadata": {
        "id": "CdDH8wolTZVQ"
      },
      "source": [
        "import graphviz"
      ],
      "execution_count": 43,
      "outputs": []
    },
    {
      "cell_type": "code",
      "metadata": {
        "colab": {
          "base_uri": "https://localhost:8080/",
          "height": 597
        },
        "id": "mCjuW_5GTdac",
        "outputId": "ee3d925e-d0c9-4b42-c6f9-c55af4588fb5"
      },
      "source": [
        "dot_data = tree.export_graphviz(\n",
        "    clf,\n",
        "    out_file=None,\n",
        "    feature_names=['Gender','Married','Education','Self_Employed','Credit_History'],\n",
        "    class_names=['Yes','No'],\n",
        "    filled=True,\n",
        "    rounded=True,\n",
        "    special_characters=True\n",
        ")\n",
        "graph = graphviz.Source(dot_data)\n",
        "graph.render('entropy')\n",
        "graph"
      ],
      "execution_count": 49,
      "outputs": [
        {
          "output_type": "execute_result",
          "data": {
            "text/plain": [
              "<graphviz.files.Source at 0x7f1d90df9610>"
            ],
            "image/svg+xml": "<?xml version=\"1.0\" encoding=\"UTF-8\" standalone=\"no\"?>\n<!DOCTYPE svg PUBLIC \"-//W3C//DTD SVG 1.1//EN\"\n \"http://www.w3.org/Graphics/SVG/1.1/DTD/svg11.dtd\">\n<!-- Generated by graphviz version 2.40.1 (20161225.0304)\n -->\n<!-- Title: Tree Pages: 1 -->\n<svg width=\"816pt\" height=\"433pt\"\n viewBox=\"0.00 0.00 816.00 433.00\" xmlns=\"http://www.w3.org/2000/svg\" xmlns:xlink=\"http://www.w3.org/1999/xlink\">\n<g id=\"graph0\" class=\"graph\" transform=\"scale(1 1) rotate(0) translate(4 429)\">\n<title>Tree</title>\n<polygon fill=\"#ffffff\" stroke=\"transparent\" points=\"-4,4 -4,-429 812,-429 812,4 -4,4\"/>\n<!-- 0 -->\n<g id=\"node1\" class=\"node\">\n<title>0</title>\n<path fill=\"#92c9f1\" stroke=\"#000000\" d=\"M458.5,-425C458.5,-425 339.5,-425 339.5,-425 333.5,-425 327.5,-419 327.5,-413 327.5,-413 327.5,-354 327.5,-354 327.5,-348 333.5,-342 339.5,-342 339.5,-342 458.5,-342 458.5,-342 464.5,-342 470.5,-348 470.5,-354 470.5,-354 470.5,-413 470.5,-413 470.5,-419 464.5,-425 458.5,-425\"/>\n<text text-anchor=\"start\" x=\"335.5\" y=\"-409.8\" font-family=\"Helvetica,sans-Serif\" font-size=\"14.00\" fill=\"#000000\">Credit_History ≤ 0.5</text>\n<text text-anchor=\"start\" x=\"348\" y=\"-394.8\" font-family=\"Helvetica,sans-Serif\" font-size=\"14.00\" fill=\"#000000\">entropy = 0.893</text>\n<text text-anchor=\"start\" x=\"351\" y=\"-379.8\" font-family=\"Helvetica,sans-Serif\" font-size=\"14.00\" fill=\"#000000\">samples = 336</text>\n<text text-anchor=\"start\" x=\"341\" y=\"-364.8\" font-family=\"Helvetica,sans-Serif\" font-size=\"14.00\" fill=\"#000000\">value = [104, 232]</text>\n<text text-anchor=\"start\" x=\"364.5\" y=\"-349.8\" font-family=\"Helvetica,sans-Serif\" font-size=\"14.00\" fill=\"#000000\">class = No</text>\n</g>\n<!-- 1 -->\n<g id=\"node2\" class=\"node\">\n<title>1</title>\n<path fill=\"#e99356\" stroke=\"#000000\" d=\"M385,-306C385,-306 259,-306 259,-306 253,-306 247,-300 247,-294 247,-294 247,-235 247,-235 247,-229 253,-223 259,-223 259,-223 385,-223 385,-223 391,-223 397,-229 397,-235 397,-235 397,-294 397,-294 397,-300 391,-306 385,-306\"/>\n<text text-anchor=\"start\" x=\"255\" y=\"-290.8\" font-family=\"Helvetica,sans-Serif\" font-size=\"14.00\" fill=\"#000000\">Self_Employed ≤ 0.5</text>\n<text text-anchor=\"start\" x=\"275\" y=\"-275.8\" font-family=\"Helvetica,sans-Serif\" font-size=\"14.00\" fill=\"#000000\">entropy = 0.55</text>\n<text text-anchor=\"start\" x=\"278\" y=\"-260.8\" font-family=\"Helvetica,sans-Serif\" font-size=\"14.00\" fill=\"#000000\">samples = 55</text>\n<text text-anchor=\"start\" x=\"276.5\" y=\"-245.8\" font-family=\"Helvetica,sans-Serif\" font-size=\"14.00\" fill=\"#000000\">value = [48, 7]</text>\n<text text-anchor=\"start\" x=\"285\" y=\"-230.8\" font-family=\"Helvetica,sans-Serif\" font-size=\"14.00\" fill=\"#000000\">class = Yes</text>\n</g>\n<!-- 0&#45;&gt;1 -->\n<g id=\"edge1\" class=\"edge\">\n<title>0&#45;&gt;1</title>\n<path fill=\"none\" stroke=\"#000000\" d=\"M372.0691,-341.8796C366.4163,-333.1434 360.3967,-323.8404 354.5634,-314.8253\"/>\n<polygon fill=\"#000000\" stroke=\"#000000\" points=\"357.4169,-312.7924 349.0458,-306.2981 351.5399,-316.5952 357.4169,-312.7924\"/>\n<text text-anchor=\"middle\" x=\"343.8076\" y=\"-327.0431\" font-family=\"Helvetica,sans-Serif\" font-size=\"14.00\" fill=\"#000000\">True</text>\n</g>\n<!-- 6 -->\n<g id=\"node7\" class=\"node\">\n<title>6</title>\n<path fill=\"#6ab5eb\" stroke=\"#000000\" d=\"M527,-306C527,-306 427,-306 427,-306 421,-306 415,-300 415,-294 415,-294 415,-235 415,-235 415,-229 421,-223 427,-223 427,-223 527,-223 527,-223 533,-223 539,-229 539,-235 539,-235 539,-294 539,-294 539,-300 533,-306 527,-306\"/>\n<text text-anchor=\"start\" x=\"434.5\" y=\"-290.8\" font-family=\"Helvetica,sans-Serif\" font-size=\"14.00\" fill=\"#000000\">Married ≤ 0.5</text>\n<text text-anchor=\"start\" x=\"426\" y=\"-275.8\" font-family=\"Helvetica,sans-Serif\" font-size=\"14.00\" fill=\"#000000\">entropy = 0.721</text>\n<text text-anchor=\"start\" x=\"429\" y=\"-260.8\" font-family=\"Helvetica,sans-Serif\" font-size=\"14.00\" fill=\"#000000\">samples = 281</text>\n<text text-anchor=\"start\" x=\"423\" y=\"-245.8\" font-family=\"Helvetica,sans-Serif\" font-size=\"14.00\" fill=\"#000000\">value = [56, 225]</text>\n<text text-anchor=\"start\" x=\"442.5\" y=\"-230.8\" font-family=\"Helvetica,sans-Serif\" font-size=\"14.00\" fill=\"#000000\">class = No</text>\n</g>\n<!-- 0&#45;&gt;6 -->\n<g id=\"edge6\" class=\"edge\">\n<title>0&#45;&gt;6</title>\n<path fill=\"none\" stroke=\"#000000\" d=\"M426.2806,-341.8796C432.0068,-333.1434 438.1046,-323.8404 444.0137,-314.8253\"/>\n<polygon fill=\"#000000\" stroke=\"#000000\" points=\"447.0482,-316.5803 449.6029,-306.2981 441.1937,-312.7429 447.0482,-316.5803\"/>\n<text text-anchor=\"middle\" x=\"454.6968\" y=\"-327.0736\" font-family=\"Helvetica,sans-Serif\" font-size=\"14.00\" fill=\"#000000\">False</text>\n</g>\n<!-- 2 -->\n<g id=\"node3\" class=\"node\">\n<title>2</title>\n<path fill=\"#ea995e\" stroke=\"#000000\" d=\"M240,-187C240,-187 146,-187 146,-187 140,-187 134,-181 134,-175 134,-175 134,-116 134,-116 134,-110 140,-104 146,-104 146,-104 240,-104 240,-104 246,-104 252,-110 252,-116 252,-116 252,-175 252,-175 252,-181 246,-187 240,-187\"/>\n<text text-anchor=\"start\" x=\"142.5\" y=\"-171.8\" font-family=\"Helvetica,sans-Serif\" font-size=\"14.00\" fill=\"#000000\">Education ≤ 0.5</text>\n<text text-anchor=\"start\" x=\"142\" y=\"-156.8\" font-family=\"Helvetica,sans-Serif\" font-size=\"14.00\" fill=\"#000000\">entropy = 0.632</text>\n<text text-anchor=\"start\" x=\"149\" y=\"-141.8\" font-family=\"Helvetica,sans-Serif\" font-size=\"14.00\" fill=\"#000000\">samples = 44</text>\n<text text-anchor=\"start\" x=\"147.5\" y=\"-126.8\" font-family=\"Helvetica,sans-Serif\" font-size=\"14.00\" fill=\"#000000\">value = [37, 7]</text>\n<text text-anchor=\"start\" x=\"156\" y=\"-111.8\" font-family=\"Helvetica,sans-Serif\" font-size=\"14.00\" fill=\"#000000\">class = Yes</text>\n</g>\n<!-- 1&#45;&gt;2 -->\n<g id=\"edge2\" class=\"edge\">\n<title>1&#45;&gt;2</title>\n<path fill=\"none\" stroke=\"#000000\" d=\"M276.8821,-222.8796C266.826,-213.6031 256.077,-203.6874 245.7446,-194.1559\"/>\n<polygon fill=\"#000000\" stroke=\"#000000\" points=\"248.0339,-191.506 238.3105,-187.2981 243.2876,-196.6511 248.0339,-191.506\"/>\n</g>\n<!-- 5 -->\n<g id=\"node6\" class=\"node\">\n<title>5</title>\n<path fill=\"#e58139\" stroke=\"#000000\" d=\"M365.5,-179.5C365.5,-179.5 282.5,-179.5 282.5,-179.5 276.5,-179.5 270.5,-173.5 270.5,-167.5 270.5,-167.5 270.5,-123.5 270.5,-123.5 270.5,-117.5 276.5,-111.5 282.5,-111.5 282.5,-111.5 365.5,-111.5 365.5,-111.5 371.5,-111.5 377.5,-117.5 377.5,-123.5 377.5,-123.5 377.5,-167.5 377.5,-167.5 377.5,-173.5 371.5,-179.5 365.5,-179.5\"/>\n<text text-anchor=\"start\" x=\"281.5\" y=\"-164.3\" font-family=\"Helvetica,sans-Serif\" font-size=\"14.00\" fill=\"#000000\">entropy = 0.0</text>\n<text text-anchor=\"start\" x=\"280\" y=\"-149.3\" font-family=\"Helvetica,sans-Serif\" font-size=\"14.00\" fill=\"#000000\">samples = 11</text>\n<text text-anchor=\"start\" x=\"278.5\" y=\"-134.3\" font-family=\"Helvetica,sans-Serif\" font-size=\"14.00\" fill=\"#000000\">value = [11, 0]</text>\n<text text-anchor=\"start\" x=\"287\" y=\"-119.3\" font-family=\"Helvetica,sans-Serif\" font-size=\"14.00\" fill=\"#000000\">class = Yes</text>\n</g>\n<!-- 1&#45;&gt;5 -->\n<g id=\"edge5\" class=\"edge\">\n<title>1&#45;&gt;5</title>\n<path fill=\"none\" stroke=\"#000000\" d=\"M322.6995,-222.8796C322.8788,-212.2134 323.0722,-200.7021 323.2538,-189.9015\"/>\n<polygon fill=\"#000000\" stroke=\"#000000\" points=\"326.7546,-189.8724 323.4233,-179.8149 319.7556,-189.7547 326.7546,-189.8724\"/>\n</g>\n<!-- 3 -->\n<g id=\"node4\" class=\"node\">\n<title>3</title>\n<path fill=\"#e88f4f\" stroke=\"#000000\" d=\"M106,-68C106,-68 12,-68 12,-68 6,-68 0,-62 0,-56 0,-56 0,-12 0,-12 0,-6 6,0 12,0 12,0 106,0 106,0 112,0 118,-6 118,-12 118,-12 118,-56 118,-56 118,-62 112,-68 106,-68\"/>\n<text text-anchor=\"start\" x=\"8\" y=\"-52.8\" font-family=\"Helvetica,sans-Serif\" font-size=\"14.00\" fill=\"#000000\">entropy = 0.469</text>\n<text text-anchor=\"start\" x=\"15\" y=\"-37.8\" font-family=\"Helvetica,sans-Serif\" font-size=\"14.00\" fill=\"#000000\">samples = 10</text>\n<text text-anchor=\"start\" x=\"17.5\" y=\"-22.8\" font-family=\"Helvetica,sans-Serif\" font-size=\"14.00\" fill=\"#000000\">value = [9, 1]</text>\n<text text-anchor=\"start\" x=\"22\" y=\"-7.8\" font-family=\"Helvetica,sans-Serif\" font-size=\"14.00\" fill=\"#000000\">class = Yes</text>\n</g>\n<!-- 2&#45;&gt;3 -->\n<g id=\"edge3\" class=\"edge\">\n<title>2&#45;&gt;3</title>\n<path fill=\"none\" stroke=\"#000000\" d=\"M143.1033,-103.9815C131.6162,-94.4232 119.4103,-84.2668 107.9633,-74.7419\"/>\n<polygon fill=\"#000000\" stroke=\"#000000\" points=\"110.1035,-71.9695 100.1779,-68.2637 105.6261,-77.3503 110.1035,-71.9695\"/>\n</g>\n<!-- 4 -->\n<g id=\"node5\" class=\"node\">\n<title>4</title>\n<path fill=\"#eb9c63\" stroke=\"#000000\" d=\"M242,-68C242,-68 148,-68 148,-68 142,-68 136,-62 136,-56 136,-56 136,-12 136,-12 136,-6 142,0 148,0 148,0 242,0 242,0 248,0 254,-6 254,-12 254,-12 254,-56 254,-56 254,-62 248,-68 242,-68\"/>\n<text text-anchor=\"start\" x=\"144\" y=\"-52.8\" font-family=\"Helvetica,sans-Serif\" font-size=\"14.00\" fill=\"#000000\">entropy = 0.672</text>\n<text text-anchor=\"start\" x=\"151\" y=\"-37.8\" font-family=\"Helvetica,sans-Serif\" font-size=\"14.00\" fill=\"#000000\">samples = 34</text>\n<text text-anchor=\"start\" x=\"149.5\" y=\"-22.8\" font-family=\"Helvetica,sans-Serif\" font-size=\"14.00\" fill=\"#000000\">value = [28, 6]</text>\n<text text-anchor=\"start\" x=\"158\" y=\"-7.8\" font-family=\"Helvetica,sans-Serif\" font-size=\"14.00\" fill=\"#000000\">class = Yes</text>\n</g>\n<!-- 2&#45;&gt;4 -->\n<g id=\"edge4\" class=\"edge\">\n<title>2&#45;&gt;4</title>\n<path fill=\"none\" stroke=\"#000000\" d=\"M193.7447,-103.9815C193.8947,-95.618 194.053,-86.7965 194.2046,-78.3409\"/>\n<polygon fill=\"#000000\" stroke=\"#000000\" points=\"197.7054,-78.3249 194.3854,-68.2637 190.7065,-78.1993 197.7054,-78.3249\"/>\n</g>\n<!-- 7 -->\n<g id=\"node8\" class=\"node\">\n<title>7</title>\n<path fill=\"#7cbeee\" stroke=\"#000000\" d=\"M520,-187C520,-187 426,-187 426,-187 420,-187 414,-181 414,-175 414,-175 414,-116 414,-116 414,-110 420,-104 426,-104 426,-104 520,-104 520,-104 526,-104 532,-110 532,-116 532,-116 532,-175 532,-175 532,-181 526,-187 520,-187\"/>\n<text text-anchor=\"start\" x=\"430.5\" y=\"-171.8\" font-family=\"Helvetica,sans-Serif\" font-size=\"14.00\" fill=\"#000000\">Gender ≤ 0.5</text>\n<text text-anchor=\"start\" x=\"422\" y=\"-156.8\" font-family=\"Helvetica,sans-Serif\" font-size=\"14.00\" fill=\"#000000\">entropy = 0.815</text>\n<text text-anchor=\"start\" x=\"425\" y=\"-141.8\" font-family=\"Helvetica,sans-Serif\" font-size=\"14.00\" fill=\"#000000\">samples = 103</text>\n<text text-anchor=\"start\" x=\"423\" y=\"-126.8\" font-family=\"Helvetica,sans-Serif\" font-size=\"14.00\" fill=\"#000000\">value = [26, 77]</text>\n<text text-anchor=\"start\" x=\"438.5\" y=\"-111.8\" font-family=\"Helvetica,sans-Serif\" font-size=\"14.00\" fill=\"#000000\">class = No</text>\n</g>\n<!-- 6&#45;&gt;7 -->\n<g id=\"edge7\" class=\"edge\">\n<title>6&#45;&gt;7</title>\n<path fill=\"none\" stroke=\"#000000\" d=\"M475.601,-222.8796C475.3255,-214.6838 475.0332,-205.9891 474.7479,-197.5013\"/>\n<polygon fill=\"#000000\" stroke=\"#000000\" points=\"478.239,-197.1748 474.405,-187.2981 471.243,-197.41 478.239,-197.1748\"/>\n</g>\n<!-- 10 -->\n<g id=\"node11\" class=\"node\">\n<title>10</title>\n<path fill=\"#61b1ea\" stroke=\"#000000\" d=\"M662,-187C662,-187 562,-187 562,-187 556,-187 550,-181 550,-175 550,-175 550,-116 550,-116 550,-110 556,-104 562,-104 562,-104 662,-104 662,-104 668,-104 674,-110 674,-116 674,-116 674,-175 674,-175 674,-181 668,-187 662,-187\"/>\n<text text-anchor=\"start\" x=\"561.5\" y=\"-171.8\" font-family=\"Helvetica,sans-Serif\" font-size=\"14.00\" fill=\"#000000\">Education ≤ 0.5</text>\n<text text-anchor=\"start\" x=\"561\" y=\"-156.8\" font-family=\"Helvetica,sans-Serif\" font-size=\"14.00\" fill=\"#000000\">entropy = 0.654</text>\n<text text-anchor=\"start\" x=\"564\" y=\"-141.8\" font-family=\"Helvetica,sans-Serif\" font-size=\"14.00\" fill=\"#000000\">samples = 178</text>\n<text text-anchor=\"start\" x=\"558\" y=\"-126.8\" font-family=\"Helvetica,sans-Serif\" font-size=\"14.00\" fill=\"#000000\">value = [30, 148]</text>\n<text text-anchor=\"start\" x=\"577.5\" y=\"-111.8\" font-family=\"Helvetica,sans-Serif\" font-size=\"14.00\" fill=\"#000000\">class = No</text>\n</g>\n<!-- 6&#45;&gt;10 -->\n<g id=\"edge10\" class=\"edge\">\n<title>6&#45;&gt;10</title>\n<path fill=\"none\" stroke=\"#000000\" d=\"M524.2164,-222.8796C534.7402,-213.6031 545.9891,-203.6874 556.8021,-194.1559\"/>\n<polygon fill=\"#000000\" stroke=\"#000000\" points=\"559.3948,-196.5362 564.582,-187.2981 554.766,-191.2851 559.3948,-196.5362\"/>\n</g>\n<!-- 8 -->\n<g id=\"node9\" class=\"node\">\n<title>8</title>\n<path fill=\"#91c9f1\" stroke=\"#000000\" d=\"M387,-68C387,-68 295,-68 295,-68 289,-68 283,-62 283,-56 283,-56 283,-12 283,-12 283,-6 289,0 295,0 295,0 387,0 387,0 393,0 399,-6 399,-12 399,-12 399,-56 399,-56 399,-62 393,-68 387,-68\"/>\n<text text-anchor=\"start\" x=\"294\" y=\"-52.8\" font-family=\"Helvetica,sans-Serif\" font-size=\"14.00\" fill=\"#000000\">entropy = 0.89</text>\n<text text-anchor=\"start\" x=\"297\" y=\"-37.8\" font-family=\"Helvetica,sans-Serif\" font-size=\"14.00\" fill=\"#000000\">samples = 39</text>\n<text text-anchor=\"start\" x=\"291\" y=\"-22.8\" font-family=\"Helvetica,sans-Serif\" font-size=\"14.00\" fill=\"#000000\">value = [12, 27]</text>\n<text text-anchor=\"start\" x=\"306.5\" y=\"-7.8\" font-family=\"Helvetica,sans-Serif\" font-size=\"14.00\" fill=\"#000000\">class = No</text>\n</g>\n<!-- 7&#45;&gt;8 -->\n<g id=\"edge8\" class=\"edge\">\n<title>7&#45;&gt;8</title>\n<path fill=\"none\" stroke=\"#000000\" d=\"M423.8481,-103.9815C412.5324,-94.4232 400.5087,-84.2668 389.2325,-74.7419\"/>\n<polygon fill=\"#000000\" stroke=\"#000000\" points=\"391.4612,-72.0429 381.5633,-68.2637 386.9441,-77.3904 391.4612,-72.0429\"/>\n</g>\n<!-- 9 -->\n<g id=\"node10\" class=\"node\">\n<title>9</title>\n<path fill=\"#70b8ec\" stroke=\"#000000\" d=\"M523,-68C523,-68 429,-68 429,-68 423,-68 417,-62 417,-56 417,-56 417,-12 417,-12 417,-6 423,0 429,0 429,0 523,0 523,0 529,0 535,-6 535,-12 535,-12 535,-56 535,-56 535,-62 529,-68 523,-68\"/>\n<text text-anchor=\"start\" x=\"425\" y=\"-52.8\" font-family=\"Helvetica,sans-Serif\" font-size=\"14.00\" fill=\"#000000\">entropy = 0.758</text>\n<text text-anchor=\"start\" x=\"432\" y=\"-37.8\" font-family=\"Helvetica,sans-Serif\" font-size=\"14.00\" fill=\"#000000\">samples = 64</text>\n<text text-anchor=\"start\" x=\"426\" y=\"-22.8\" font-family=\"Helvetica,sans-Serif\" font-size=\"14.00\" fill=\"#000000\">value = [14, 50]</text>\n<text text-anchor=\"start\" x=\"441.5\" y=\"-7.8\" font-family=\"Helvetica,sans-Serif\" font-size=\"14.00\" fill=\"#000000\">class = No</text>\n</g>\n<!-- 7&#45;&gt;9 -->\n<g id=\"edge9\" class=\"edge\">\n<title>7&#45;&gt;9</title>\n<path fill=\"none\" stroke=\"#000000\" d=\"M474.1171,-103.9815C474.3421,-95.618 474.5795,-86.7965 474.807,-78.3409\"/>\n<polygon fill=\"#000000\" stroke=\"#000000\" points=\"478.3078,-78.3542 475.0781,-68.2637 471.3103,-78.1659 478.3078,-78.3542\"/>\n</g>\n<!-- 11 -->\n<g id=\"node12\" class=\"node\">\n<title>11</title>\n<path fill=\"#6fb8ec\" stroke=\"#000000\" d=\"M654,-68C654,-68 568,-68 568,-68 562,-68 556,-62 556,-56 556,-56 556,-12 556,-12 556,-6 562,0 568,0 568,0 654,0 654,0 660,0 666,-6 666,-12 666,-12 666,-56 666,-56 666,-62 660,-68 654,-68\"/>\n<text text-anchor=\"start\" x=\"564\" y=\"-52.8\" font-family=\"Helvetica,sans-Serif\" font-size=\"14.00\" fill=\"#000000\">entropy = 0.75</text>\n<text text-anchor=\"start\" x=\"567\" y=\"-37.8\" font-family=\"Helvetica,sans-Serif\" font-size=\"14.00\" fill=\"#000000\">samples = 28</text>\n<text text-anchor=\"start\" x=\"565.5\" y=\"-22.8\" font-family=\"Helvetica,sans-Serif\" font-size=\"14.00\" fill=\"#000000\">value = [6, 22]</text>\n<text text-anchor=\"start\" x=\"576.5\" y=\"-7.8\" font-family=\"Helvetica,sans-Serif\" font-size=\"14.00\" fill=\"#000000\">class = No</text>\n</g>\n<!-- 10&#45;&gt;11 -->\n<g id=\"edge11\" class=\"edge\">\n<title>10&#45;&gt;11</title>\n<path fill=\"none\" stroke=\"#000000\" d=\"M611.6276,-103.9815C611.5526,-95.618 611.4735,-86.7965 611.3977,-78.3409\"/>\n<polygon fill=\"#000000\" stroke=\"#000000\" points=\"614.8969,-78.2318 611.3073,-68.2637 607.8972,-78.2947 614.8969,-78.2318\"/>\n</g>\n<!-- 12 -->\n<g id=\"node13\" class=\"node\">\n<title>12</title>\n<path fill=\"#5fb0ea\" stroke=\"#000000\" d=\"M796,-68C796,-68 696,-68 696,-68 690,-68 684,-62 684,-56 684,-56 684,-12 684,-12 684,-6 690,0 696,0 696,0 796,0 796,0 802,0 808,-6 808,-12 808,-12 808,-56 808,-56 808,-62 802,-68 796,-68\"/>\n<text text-anchor=\"start\" x=\"695\" y=\"-52.8\" font-family=\"Helvetica,sans-Serif\" font-size=\"14.00\" fill=\"#000000\">entropy = 0.634</text>\n<text text-anchor=\"start\" x=\"698\" y=\"-37.8\" font-family=\"Helvetica,sans-Serif\" font-size=\"14.00\" fill=\"#000000\">samples = 150</text>\n<text text-anchor=\"start\" x=\"692\" y=\"-22.8\" font-family=\"Helvetica,sans-Serif\" font-size=\"14.00\" fill=\"#000000\">value = [24, 126]</text>\n<text text-anchor=\"start\" x=\"711.5\" y=\"-7.8\" font-family=\"Helvetica,sans-Serif\" font-size=\"14.00\" fill=\"#000000\">class = No</text>\n</g>\n<!-- 10&#45;&gt;12 -->\n<g id=\"edge12\" class=\"edge\">\n<title>10&#45;&gt;12</title>\n<path fill=\"none\" stroke=\"#000000\" d=\"M661.8967,-103.9815C673.3838,-94.4232 685.5897,-84.2668 697.0367,-74.7419\"/>\n<polygon fill=\"#000000\" stroke=\"#000000\" points=\"699.3739,-77.3503 704.8221,-68.2637 694.8965,-71.9695 699.3739,-77.3503\"/>\n</g>\n</g>\n</svg>\n"
          },
          "metadata": {},
          "execution_count": 49
        }
      ]
    },
    {
      "cell_type": "code",
      "metadata": {
        "id": "LodU4U3bVCwS"
      },
      "source": [
        ""
      ],
      "execution_count": null,
      "outputs": []
    }
  ]
}